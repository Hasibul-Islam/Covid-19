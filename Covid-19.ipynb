{
 "cells": [
  {
   "cell_type": "markdown",
   "metadata": {},
   "source": [
    "Importing necessary libraries."
   ]
  },
  {
   "cell_type": "code",
   "execution_count": 57,
   "metadata": {},
   "outputs": [],
   "source": [
    "import matplotlib.pyplot as plt\n",
    "%matplotlib inline\n",
    "import seaborn as sns\n",
    "sns.set() # Apply the default seaborn theme, scaling, and color palette\n",
    "\n",
    "import pandas as pd\n",
    "import numpy as np\n",
    "\n",
    "import warnings\n",
    "warnings.filterwarnings(\"ignore\")"
   ]
  },
  {
   "cell_type": "markdown",
   "metadata": {},
   "source": [
    "dataset source: https://www.kaggle.com/imdevskp/corona-virus-report?select=worldometer_data.csv"
   ]
  },
  {
   "cell_type": "code",
   "execution_count": 58,
   "metadata": {
    "scrolled": false
   },
   "outputs": [
    {
     "data": {
      "text/html": [
       "<div>\n",
       "<style scoped>\n",
       "    .dataframe tbody tr th:only-of-type {\n",
       "        vertical-align: middle;\n",
       "    }\n",
       "\n",
       "    .dataframe tbody tr th {\n",
       "        vertical-align: top;\n",
       "    }\n",
       "\n",
       "    .dataframe thead th {\n",
       "        text-align: right;\n",
       "    }\n",
       "</style>\n",
       "<table border=\"1\" class=\"dataframe\">\n",
       "  <thead>\n",
       "    <tr style=\"text-align: right;\">\n",
       "      <th></th>\n",
       "      <th>Country/Region</th>\n",
       "      <th>Continent</th>\n",
       "      <th>Population</th>\n",
       "      <th>TotalCases</th>\n",
       "      <th>NewCases</th>\n",
       "      <th>TotalDeaths</th>\n",
       "      <th>NewDeaths</th>\n",
       "      <th>TotalRecovered</th>\n",
       "      <th>NewRecovered</th>\n",
       "      <th>ActiveCases</th>\n",
       "      <th>Serious,Critical</th>\n",
       "      <th>Tot Cases/1M pop</th>\n",
       "      <th>Deaths/1M pop</th>\n",
       "      <th>TotalTests</th>\n",
       "      <th>Tests/1M pop</th>\n",
       "      <th>WHO Region</th>\n",
       "    </tr>\n",
       "  </thead>\n",
       "  <tbody>\n",
       "    <tr>\n",
       "      <th>0</th>\n",
       "      <td>USA</td>\n",
       "      <td>North America</td>\n",
       "      <td>3.310234e+08</td>\n",
       "      <td>2936175</td>\n",
       "      <td>405.0</td>\n",
       "      <td>132327.0</td>\n",
       "      <td>9.0</td>\n",
       "      <td>1260619.0</td>\n",
       "      <td>214.0</td>\n",
       "      <td>1543229.0</td>\n",
       "      <td>16017.0</td>\n",
       "      <td>8870.0</td>\n",
       "      <td>400.0</td>\n",
       "      <td>36955038.0</td>\n",
       "      <td>111639.0</td>\n",
       "      <td>Americas</td>\n",
       "    </tr>\n",
       "    <tr>\n",
       "      <th>1</th>\n",
       "      <td>Brazil</td>\n",
       "      <td>South America</td>\n",
       "      <td>2.125747e+08</td>\n",
       "      <td>1578376</td>\n",
       "      <td>NaN</td>\n",
       "      <td>64365.0</td>\n",
       "      <td>NaN</td>\n",
       "      <td>978615.0</td>\n",
       "      <td>NaN</td>\n",
       "      <td>535396.0</td>\n",
       "      <td>8318.0</td>\n",
       "      <td>7425.0</td>\n",
       "      <td>303.0</td>\n",
       "      <td>3330562.0</td>\n",
       "      <td>15668.0</td>\n",
       "      <td>Americas</td>\n",
       "    </tr>\n",
       "    <tr>\n",
       "      <th>2</th>\n",
       "      <td>Russia</td>\n",
       "      <td>Europe</td>\n",
       "      <td>1.459353e+08</td>\n",
       "      <td>681251</td>\n",
       "      <td>6736.0</td>\n",
       "      <td>10161.0</td>\n",
       "      <td>134.0</td>\n",
       "      <td>450750.0</td>\n",
       "      <td>3871.0</td>\n",
       "      <td>220340.0</td>\n",
       "      <td>2300.0</td>\n",
       "      <td>4668.0</td>\n",
       "      <td>70.0</td>\n",
       "      <td>21069457.0</td>\n",
       "      <td>144375.0</td>\n",
       "      <td>Europe</td>\n",
       "    </tr>\n",
       "    <tr>\n",
       "      <th>3</th>\n",
       "      <td>India</td>\n",
       "      <td>Asia</td>\n",
       "      <td>1.380123e+09</td>\n",
       "      <td>675453</td>\n",
       "      <td>1549.0</td>\n",
       "      <td>19303.0</td>\n",
       "      <td>24.0</td>\n",
       "      <td>409083.0</td>\n",
       "      <td>21.0</td>\n",
       "      <td>247067.0</td>\n",
       "      <td>8944.0</td>\n",
       "      <td>489.0</td>\n",
       "      <td>14.0</td>\n",
       "      <td>9789066.0</td>\n",
       "      <td>7093.0</td>\n",
       "      <td>South-EastAsia</td>\n",
       "    </tr>\n",
       "    <tr>\n",
       "      <th>4</th>\n",
       "      <td>Peru</td>\n",
       "      <td>South America</td>\n",
       "      <td>3.297490e+07</td>\n",
       "      <td>299080</td>\n",
       "      <td>NaN</td>\n",
       "      <td>10412.0</td>\n",
       "      <td>NaN</td>\n",
       "      <td>189621.0</td>\n",
       "      <td>NaN</td>\n",
       "      <td>99047.0</td>\n",
       "      <td>1210.0</td>\n",
       "      <td>9070.0</td>\n",
       "      <td>316.0</td>\n",
       "      <td>1761910.0</td>\n",
       "      <td>53432.0</td>\n",
       "      <td>Americas</td>\n",
       "    </tr>\n",
       "    <tr>\n",
       "      <th>5</th>\n",
       "      <td>Spain</td>\n",
       "      <td>Europe</td>\n",
       "      <td>4.675502e+07</td>\n",
       "      <td>297625</td>\n",
       "      <td>NaN</td>\n",
       "      <td>28385.0</td>\n",
       "      <td>NaN</td>\n",
       "      <td>NaN</td>\n",
       "      <td>NaN</td>\n",
       "      <td>NaN</td>\n",
       "      <td>617.0</td>\n",
       "      <td>6366.0</td>\n",
       "      <td>607.0</td>\n",
       "      <td>5448984.0</td>\n",
       "      <td>116543.0</td>\n",
       "      <td>Europe</td>\n",
       "    </tr>\n",
       "    <tr>\n",
       "      <th>6</th>\n",
       "      <td>Chile</td>\n",
       "      <td>South America</td>\n",
       "      <td>1.911774e+07</td>\n",
       "      <td>291847</td>\n",
       "      <td>NaN</td>\n",
       "      <td>6192.0</td>\n",
       "      <td>NaN</td>\n",
       "      <td>257445.0</td>\n",
       "      <td>NaN</td>\n",
       "      <td>28210.0</td>\n",
       "      <td>2077.0</td>\n",
       "      <td>15266.0</td>\n",
       "      <td>324.0</td>\n",
       "      <td>1163880.0</td>\n",
       "      <td>60880.0</td>\n",
       "      <td>Americas</td>\n",
       "    </tr>\n",
       "    <tr>\n",
       "      <th>7</th>\n",
       "      <td>UK</td>\n",
       "      <td>Europe</td>\n",
       "      <td>6.788994e+07</td>\n",
       "      <td>284900</td>\n",
       "      <td>NaN</td>\n",
       "      <td>44198.0</td>\n",
       "      <td>NaN</td>\n",
       "      <td>NaN</td>\n",
       "      <td>NaN</td>\n",
       "      <td>NaN</td>\n",
       "      <td>231.0</td>\n",
       "      <td>4196.0</td>\n",
       "      <td>651.0</td>\n",
       "      <td>10340511.0</td>\n",
       "      <td>152313.0</td>\n",
       "      <td>Europe</td>\n",
       "    </tr>\n",
       "    <tr>\n",
       "      <th>8</th>\n",
       "      <td>Mexico</td>\n",
       "      <td>North America</td>\n",
       "      <td>1.289441e+08</td>\n",
       "      <td>252165</td>\n",
       "      <td>6914.0</td>\n",
       "      <td>30366.0</td>\n",
       "      <td>523.0</td>\n",
       "      <td>152309.0</td>\n",
       "      <td>5104.0</td>\n",
       "      <td>69490.0</td>\n",
       "      <td>378.0</td>\n",
       "      <td>1956.0</td>\n",
       "      <td>235.0</td>\n",
       "      <td>634991.0</td>\n",
       "      <td>4925.0</td>\n",
       "      <td>Americas</td>\n",
       "    </tr>\n",
       "    <tr>\n",
       "      <th>9</th>\n",
       "      <td>Italy</td>\n",
       "      <td>Europe</td>\n",
       "      <td>6.046055e+07</td>\n",
       "      <td>241419</td>\n",
       "      <td>NaN</td>\n",
       "      <td>34854.0</td>\n",
       "      <td>NaN</td>\n",
       "      <td>191944.0</td>\n",
       "      <td>NaN</td>\n",
       "      <td>14621.0</td>\n",
       "      <td>71.0</td>\n",
       "      <td>3993.0</td>\n",
       "      <td>576.0</td>\n",
       "      <td>5600826.0</td>\n",
       "      <td>92636.0</td>\n",
       "      <td>Europe</td>\n",
       "    </tr>\n",
       "  </tbody>\n",
       "</table>\n",
       "</div>"
      ],
      "text/plain": [
       "  Country/Region      Continent    Population  TotalCases  NewCases  \\\n",
       "0            USA  North America  3.310234e+08     2936175     405.0   \n",
       "1         Brazil  South America  2.125747e+08     1578376       NaN   \n",
       "2         Russia         Europe  1.459353e+08      681251    6736.0   \n",
       "3          India           Asia  1.380123e+09      675453    1549.0   \n",
       "4           Peru  South America  3.297490e+07      299080       NaN   \n",
       "5          Spain         Europe  4.675502e+07      297625       NaN   \n",
       "6          Chile  South America  1.911774e+07      291847       NaN   \n",
       "7             UK         Europe  6.788994e+07      284900       NaN   \n",
       "8         Mexico  North America  1.289441e+08      252165    6914.0   \n",
       "9          Italy         Europe  6.046055e+07      241419       NaN   \n",
       "\n",
       "   TotalDeaths  NewDeaths  TotalRecovered  NewRecovered  ActiveCases  \\\n",
       "0     132327.0        9.0       1260619.0         214.0    1543229.0   \n",
       "1      64365.0        NaN        978615.0           NaN     535396.0   \n",
       "2      10161.0      134.0        450750.0        3871.0     220340.0   \n",
       "3      19303.0       24.0        409083.0          21.0     247067.0   \n",
       "4      10412.0        NaN        189621.0           NaN      99047.0   \n",
       "5      28385.0        NaN             NaN           NaN          NaN   \n",
       "6       6192.0        NaN        257445.0           NaN      28210.0   \n",
       "7      44198.0        NaN             NaN           NaN          NaN   \n",
       "8      30366.0      523.0        152309.0        5104.0      69490.0   \n",
       "9      34854.0        NaN        191944.0           NaN      14621.0   \n",
       "\n",
       "   Serious,Critical  Tot Cases/1M pop  Deaths/1M pop  TotalTests  \\\n",
       "0           16017.0            8870.0          400.0  36955038.0   \n",
       "1            8318.0            7425.0          303.0   3330562.0   \n",
       "2            2300.0            4668.0           70.0  21069457.0   \n",
       "3            8944.0             489.0           14.0   9789066.0   \n",
       "4            1210.0            9070.0          316.0   1761910.0   \n",
       "5             617.0            6366.0          607.0   5448984.0   \n",
       "6            2077.0           15266.0          324.0   1163880.0   \n",
       "7             231.0            4196.0          651.0  10340511.0   \n",
       "8             378.0            1956.0          235.0    634991.0   \n",
       "9              71.0            3993.0          576.0   5600826.0   \n",
       "\n",
       "   Tests/1M pop      WHO Region  \n",
       "0      111639.0        Americas  \n",
       "1       15668.0        Americas  \n",
       "2      144375.0          Europe  \n",
       "3        7093.0  South-EastAsia  \n",
       "4       53432.0        Americas  \n",
       "5      116543.0          Europe  \n",
       "6       60880.0        Americas  \n",
       "7      152313.0          Europe  \n",
       "8        4925.0        Americas  \n",
       "9       92636.0          Europe  "
      ]
     },
     "execution_count": 58,
     "metadata": {},
     "output_type": "execute_result"
    }
   ],
   "source": [
    "df = pd.read_csv('covid19.csv')\n",
    "df.head(10)"
   ]
  },
  {
   "cell_type": "markdown",
   "metadata": {},
   "source": [
    "Dataset Description.\n",
    "\n",
    "This dataset is collected from kaggle. It's from worldometer website of coronavirus data table.\n",
    "\n",
    "Features,\n",
    "\n",
    "1. Country/Region: Name of the country/region\n",
    "2. Continent: Name of the Contitnent of the country/region\n",
    "3. Population: Population of that country\n",
    "4. TotalCases: Total corona virus cases of that contry/region\n",
    "5. NewCases: New corona virus cases of that contry/region\n",
    "6. TotalDeaths: Total corona virus death cases of that contry/region\n",
    "7. NewDeaths: New corona virus death cases of that contry/region\n",
    "8. TotalRecovered: Total corona virus recovery cases of that contry/region\n",
    "9. NewRecovered: New corona virus recovery cases of that contry/region\n",
    "10. ActiveCases: Current total active corona virus cases of that country/region\n",
    "11. Serious,Critical: Current total critical corona virus cases of that country/region\n",
    "12. Tot Cases/1M pop: Total current corona virus cases per millon population of that country/region\n",
    "13. Deaths/1M pop: Total current corona virus death cases per millon population of that country/region\n",
    "14. TotalTests: Total current done corona virus tests of that country/region\n",
    "15. Tests/1M pop: Total current done corona virus tests per million population of that country/region\n",
    "16. WHO Region: The country under which WHO( World Heath Organization) region."
   ]
  },
  {
   "cell_type": "code",
   "execution_count": 59,
   "metadata": {
    "scrolled": false
   },
   "outputs": [
    {
     "data": {
      "text/plain": [
       "(209, 16)"
      ]
     },
     "execution_count": 59,
     "metadata": {},
     "output_type": "execute_result"
    }
   ],
   "source": [
    "df.shape"
   ]
  },
  {
   "cell_type": "markdown",
   "metadata": {},
   "source": [
    "Total 209 countries data"
   ]
  },
  {
   "cell_type": "code",
   "execution_count": 60,
   "metadata": {
    "scrolled": false
   },
   "outputs": [
    {
     "name": "stdout",
     "output_type": "stream",
     "text": [
      "<class 'pandas.core.frame.DataFrame'>\n",
      "RangeIndex: 209 entries, 0 to 208\n",
      "Data columns (total 16 columns):\n",
      " #   Column            Non-Null Count  Dtype  \n",
      "---  ------            --------------  -----  \n",
      " 0   Country/Region    209 non-null    object \n",
      " 1   Continent         207 non-null    object \n",
      " 2   Population        207 non-null    float64\n",
      " 3   TotalCases        209 non-null    int64  \n",
      " 4   NewCases          56 non-null     float64\n",
      " 5   TotalDeaths       183 non-null    float64\n",
      " 6   NewDeaths         33 non-null     float64\n",
      " 7   TotalRecovered    204 non-null    float64\n",
      " 8   NewRecovered      50 non-null     float64\n",
      " 9   ActiveCases       205 non-null    float64\n",
      " 10  Serious,Critical  128 non-null    float64\n",
      " 11  Tot Cases/1M pop  207 non-null    float64\n",
      " 12  Deaths/1M pop     181 non-null    float64\n",
      " 13  TotalTests        188 non-null    float64\n",
      " 14  Tests/1M pop      188 non-null    float64\n",
      " 15  WHO Region        184 non-null    object \n",
      "dtypes: float64(12), int64(1), object(3)\n",
      "memory usage: 26.2+ KB\n"
     ]
    }
   ],
   "source": [
    "df.info()"
   ]
  },
  {
   "cell_type": "markdown",
   "metadata": {},
   "source": [
    "We can see here some values are missing. Let's get a better visualization for null values."
   ]
  },
  {
   "cell_type": "code",
   "execution_count": 61,
   "metadata": {
    "scrolled": false
   },
   "outputs": [
    {
     "data": {
      "text/plain": [
       "Country/Region        0\n",
       "Continent             2\n",
       "Population            2\n",
       "TotalCases            0\n",
       "NewCases            153\n",
       "TotalDeaths          26\n",
       "NewDeaths           176\n",
       "TotalRecovered        5\n",
       "NewRecovered        159\n",
       "ActiveCases           4\n",
       "Serious,Critical     81\n",
       "Tot Cases/1M pop      2\n",
       "Deaths/1M pop        28\n",
       "TotalTests           21\n",
       "Tests/1M pop         21\n",
       "WHO Region           25\n",
       "dtype: int64"
      ]
     },
     "execution_count": 61,
     "metadata": {},
     "output_type": "execute_result"
    }
   ],
   "source": [
    "df.isna().sum()"
   ]
  },
  {
   "cell_type": "markdown",
   "metadata": {},
   "source": [
    "A lot of missing values here. We have to fix those for better visualization."
   ]
  },
  {
   "cell_type": "code",
   "execution_count": 62,
   "metadata": {
    "scrolled": false
   },
   "outputs": [
    {
     "data": {
      "text/html": [
       "<div>\n",
       "<style scoped>\n",
       "    .dataframe tbody tr th:only-of-type {\n",
       "        vertical-align: middle;\n",
       "    }\n",
       "\n",
       "    .dataframe tbody tr th {\n",
       "        vertical-align: top;\n",
       "    }\n",
       "\n",
       "    .dataframe thead th {\n",
       "        text-align: right;\n",
       "    }\n",
       "</style>\n",
       "<table border=\"1\" class=\"dataframe\">\n",
       "  <thead>\n",
       "    <tr style=\"text-align: right;\">\n",
       "      <th></th>\n",
       "      <th>Country/Region</th>\n",
       "      <th>Continent</th>\n",
       "      <th>Population</th>\n",
       "      <th>TotalCases</th>\n",
       "      <th>NewCases</th>\n",
       "      <th>TotalDeaths</th>\n",
       "      <th>NewDeaths</th>\n",
       "      <th>TotalRecovered</th>\n",
       "      <th>NewRecovered</th>\n",
       "      <th>ActiveCases</th>\n",
       "      <th>Serious,Critical</th>\n",
       "      <th>Tot Cases/1M pop</th>\n",
       "      <th>Deaths/1M pop</th>\n",
       "      <th>TotalTests</th>\n",
       "      <th>Tests/1M pop</th>\n",
       "      <th>WHO Region</th>\n",
       "    </tr>\n",
       "  </thead>\n",
       "  <tbody>\n",
       "    <tr>\n",
       "      <th>count</th>\n",
       "      <td>209</td>\n",
       "      <td>207</td>\n",
       "      <td>2.070000e+02</td>\n",
       "      <td>2.090000e+02</td>\n",
       "      <td>56.000000</td>\n",
       "      <td>183.000000</td>\n",
       "      <td>33.000000</td>\n",
       "      <td>2.040000e+02</td>\n",
       "      <td>50.000000</td>\n",
       "      <td>2.050000e+02</td>\n",
       "      <td>128.000000</td>\n",
       "      <td>207.000000</td>\n",
       "      <td>181.000000</td>\n",
       "      <td>1.880000e+02</td>\n",
       "      <td>188.000000</td>\n",
       "      <td>184</td>\n",
       "    </tr>\n",
       "    <tr>\n",
       "      <th>unique</th>\n",
       "      <td>209</td>\n",
       "      <td>6</td>\n",
       "      <td>NaN</td>\n",
       "      <td>NaN</td>\n",
       "      <td>NaN</td>\n",
       "      <td>NaN</td>\n",
       "      <td>NaN</td>\n",
       "      <td>NaN</td>\n",
       "      <td>NaN</td>\n",
       "      <td>NaN</td>\n",
       "      <td>NaN</td>\n",
       "      <td>NaN</td>\n",
       "      <td>NaN</td>\n",
       "      <td>NaN</td>\n",
       "      <td>NaN</td>\n",
       "      <td>6</td>\n",
       "    </tr>\n",
       "    <tr>\n",
       "      <th>top</th>\n",
       "      <td>Georgia</td>\n",
       "      <td>Africa</td>\n",
       "      <td>NaN</td>\n",
       "      <td>NaN</td>\n",
       "      <td>NaN</td>\n",
       "      <td>NaN</td>\n",
       "      <td>NaN</td>\n",
       "      <td>NaN</td>\n",
       "      <td>NaN</td>\n",
       "      <td>NaN</td>\n",
       "      <td>NaN</td>\n",
       "      <td>NaN</td>\n",
       "      <td>NaN</td>\n",
       "      <td>NaN</td>\n",
       "      <td>NaN</td>\n",
       "      <td>Europe</td>\n",
       "    </tr>\n",
       "    <tr>\n",
       "      <th>freq</th>\n",
       "      <td>1</td>\n",
       "      <td>57</td>\n",
       "      <td>NaN</td>\n",
       "      <td>NaN</td>\n",
       "      <td>NaN</td>\n",
       "      <td>NaN</td>\n",
       "      <td>NaN</td>\n",
       "      <td>NaN</td>\n",
       "      <td>NaN</td>\n",
       "      <td>NaN</td>\n",
       "      <td>NaN</td>\n",
       "      <td>NaN</td>\n",
       "      <td>NaN</td>\n",
       "      <td>NaN</td>\n",
       "      <td>NaN</td>\n",
       "      <td>55</td>\n",
       "    </tr>\n",
       "    <tr>\n",
       "      <th>mean</th>\n",
       "      <td>NaN</td>\n",
       "      <td>NaN</td>\n",
       "      <td>3.052966e+07</td>\n",
       "      <td>5.420110e+04</td>\n",
       "      <td>703.517857</td>\n",
       "      <td>2893.754098</td>\n",
       "      <td>40.242424</td>\n",
       "      <td>3.027814e+04</td>\n",
       "      <td>543.840000</td>\n",
       "      <td>1.951984e+04</td>\n",
       "      <td>457.078125</td>\n",
       "      <td>2220.449275</td>\n",
       "      <td>80.476133</td>\n",
       "      <td>8.586751e+05</td>\n",
       "      <td>51568.941489</td>\n",
       "      <td>NaN</td>\n",
       "    </tr>\n",
       "    <tr>\n",
       "      <th>std</th>\n",
       "      <td>NaN</td>\n",
       "      <td>NaN</td>\n",
       "      <td>1.049037e+08</td>\n",
       "      <td>2.433294e+05</td>\n",
       "      <td>1408.303647</td>\n",
       "      <td>12213.646591</td>\n",
       "      <td>95.262148</td>\n",
       "      <td>1.234237e+05</td>\n",
       "      <td>1152.776194</td>\n",
       "      <td>1.165010e+05</td>\n",
       "      <td>1818.639860</td>\n",
       "      <td>4051.712878</td>\n",
       "      <td>163.255994</td>\n",
       "      <td>3.326283e+06</td>\n",
       "      <td>81573.931075</td>\n",
       "      <td>NaN</td>\n",
       "    </tr>\n",
       "    <tr>\n",
       "      <th>min</th>\n",
       "      <td>NaN</td>\n",
       "      <td>NaN</td>\n",
       "      <td>8.010000e+02</td>\n",
       "      <td>9.000000e+00</td>\n",
       "      <td>1.000000</td>\n",
       "      <td>1.000000</td>\n",
       "      <td>1.000000</td>\n",
       "      <td>8.000000e+00</td>\n",
       "      <td>1.000000</td>\n",
       "      <td>0.000000e+00</td>\n",
       "      <td>1.000000</td>\n",
       "      <td>1.000000</td>\n",
       "      <td>0.080000</td>\n",
       "      <td>6.100000e+01</td>\n",
       "      <td>4.000000</td>\n",
       "      <td>NaN</td>\n",
       "    </tr>\n",
       "    <tr>\n",
       "      <th>25%</th>\n",
       "      <td>NaN</td>\n",
       "      <td>NaN</td>\n",
       "      <td>1.074178e+06</td>\n",
       "      <td>3.550000e+02</td>\n",
       "      <td>14.250000</td>\n",
       "      <td>15.000000</td>\n",
       "      <td>3.000000</td>\n",
       "      <td>2.285000e+02</td>\n",
       "      <td>18.500000</td>\n",
       "      <td>4.800000e+01</td>\n",
       "      <td>3.000000</td>\n",
       "      <td>176.500000</td>\n",
       "      <td>4.000000</td>\n",
       "      <td>1.283700e+04</td>\n",
       "      <td>5200.500000</td>\n",
       "      <td>NaN</td>\n",
       "    </tr>\n",
       "    <tr>\n",
       "      <th>50%</th>\n",
       "      <td>NaN</td>\n",
       "      <td>NaN</td>\n",
       "      <td>7.133192e+06</td>\n",
       "      <td>2.385000e+03</td>\n",
       "      <td>132.000000</td>\n",
       "      <td>74.000000</td>\n",
       "      <td>7.000000</td>\n",
       "      <td>1.379000e+03</td>\n",
       "      <td>105.000000</td>\n",
       "      <td>5.160000e+02</td>\n",
       "      <td>14.500000</td>\n",
       "      <td>694.000000</td>\n",
       "      <td>22.000000</td>\n",
       "      <td>8.526750e+04</td>\n",
       "      <td>21186.000000</td>\n",
       "      <td>NaN</td>\n",
       "    </tr>\n",
       "    <tr>\n",
       "      <th>75%</th>\n",
       "      <td>NaN</td>\n",
       "      <td>NaN</td>\n",
       "      <td>2.594054e+07</td>\n",
       "      <td>2.008500e+04</td>\n",
       "      <td>699.250000</td>\n",
       "      <td>607.000000</td>\n",
       "      <td>24.000000</td>\n",
       "      <td>1.133375e+04</td>\n",
       "      <td>380.500000</td>\n",
       "      <td>4.773000e+03</td>\n",
       "      <td>107.750000</td>\n",
       "      <td>2540.500000</td>\n",
       "      <td>59.000000</td>\n",
       "      <td>5.263038e+05</td>\n",
       "      <td>53282.750000</td>\n",
       "      <td>NaN</td>\n",
       "    </tr>\n",
       "    <tr>\n",
       "      <th>max</th>\n",
       "      <td>NaN</td>\n",
       "      <td>NaN</td>\n",
       "      <td>1.380123e+09</td>\n",
       "      <td>2.936175e+06</td>\n",
       "      <td>6914.000000</td>\n",
       "      <td>132327.000000</td>\n",
       "      <td>523.000000</td>\n",
       "      <td>1.260619e+06</td>\n",
       "      <td>5104.000000</td>\n",
       "      <td>1.543229e+06</td>\n",
       "      <td>16017.000000</td>\n",
       "      <td>35543.000000</td>\n",
       "      <td>1238.000000</td>\n",
       "      <td>3.695504e+07</td>\n",
       "      <td>430115.000000</td>\n",
       "      <td>NaN</td>\n",
       "    </tr>\n",
       "  </tbody>\n",
       "</table>\n",
       "</div>"
      ],
      "text/plain": [
       "       Country/Region Continent    Population    TotalCases     NewCases  \\\n",
       "count             209       207  2.070000e+02  2.090000e+02    56.000000   \n",
       "unique            209         6           NaN           NaN          NaN   \n",
       "top           Georgia    Africa           NaN           NaN          NaN   \n",
       "freq                1        57           NaN           NaN          NaN   \n",
       "mean              NaN       NaN  3.052966e+07  5.420110e+04   703.517857   \n",
       "std               NaN       NaN  1.049037e+08  2.433294e+05  1408.303647   \n",
       "min               NaN       NaN  8.010000e+02  9.000000e+00     1.000000   \n",
       "25%               NaN       NaN  1.074178e+06  3.550000e+02    14.250000   \n",
       "50%               NaN       NaN  7.133192e+06  2.385000e+03   132.000000   \n",
       "75%               NaN       NaN  2.594054e+07  2.008500e+04   699.250000   \n",
       "max               NaN       NaN  1.380123e+09  2.936175e+06  6914.000000   \n",
       "\n",
       "          TotalDeaths   NewDeaths  TotalRecovered  NewRecovered   ActiveCases  \\\n",
       "count      183.000000   33.000000    2.040000e+02     50.000000  2.050000e+02   \n",
       "unique            NaN         NaN             NaN           NaN           NaN   \n",
       "top               NaN         NaN             NaN           NaN           NaN   \n",
       "freq              NaN         NaN             NaN           NaN           NaN   \n",
       "mean      2893.754098   40.242424    3.027814e+04    543.840000  1.951984e+04   \n",
       "std      12213.646591   95.262148    1.234237e+05   1152.776194  1.165010e+05   \n",
       "min          1.000000    1.000000    8.000000e+00      1.000000  0.000000e+00   \n",
       "25%         15.000000    3.000000    2.285000e+02     18.500000  4.800000e+01   \n",
       "50%         74.000000    7.000000    1.379000e+03    105.000000  5.160000e+02   \n",
       "75%        607.000000   24.000000    1.133375e+04    380.500000  4.773000e+03   \n",
       "max     132327.000000  523.000000    1.260619e+06   5104.000000  1.543229e+06   \n",
       "\n",
       "        Serious,Critical  Tot Cases/1M pop  Deaths/1M pop    TotalTests  \\\n",
       "count         128.000000        207.000000     181.000000  1.880000e+02   \n",
       "unique               NaN               NaN            NaN           NaN   \n",
       "top                  NaN               NaN            NaN           NaN   \n",
       "freq                 NaN               NaN            NaN           NaN   \n",
       "mean          457.078125       2220.449275      80.476133  8.586751e+05   \n",
       "std          1818.639860       4051.712878     163.255994  3.326283e+06   \n",
       "min             1.000000          1.000000       0.080000  6.100000e+01   \n",
       "25%             3.000000        176.500000       4.000000  1.283700e+04   \n",
       "50%            14.500000        694.000000      22.000000  8.526750e+04   \n",
       "75%           107.750000       2540.500000      59.000000  5.263038e+05   \n",
       "max         16017.000000      35543.000000    1238.000000  3.695504e+07   \n",
       "\n",
       "         Tests/1M pop WHO Region  \n",
       "count      188.000000        184  \n",
       "unique            NaN          6  \n",
       "top               NaN     Europe  \n",
       "freq              NaN         55  \n",
       "mean     51568.941489        NaN  \n",
       "std      81573.931075        NaN  \n",
       "min          4.000000        NaN  \n",
       "25%       5200.500000        NaN  \n",
       "50%      21186.000000        NaN  \n",
       "75%      53282.750000        NaN  \n",
       "max     430115.000000        NaN  "
      ]
     },
     "execution_count": 62,
     "metadata": {},
     "output_type": "execute_result"
    }
   ],
   "source": [
    "df.describe(include='all')"
   ]
  },
  {
   "cell_type": "markdown",
   "metadata": {},
   "source": [
    "Decision:\n",
    "\n",
    "Top affected continent: Africa\n",
    "\n",
    "Total affected countries in Africa: 57\n",
    "\n",
    "Most WHO region Continent: Europe\n",
    "\n",
    "Total affected countries: 209"
   ]
  },
  {
   "cell_type": "markdown",
   "metadata": {},
   "source": [
    "For better visualization let's convert the column names to a understandable format."
   ]
  },
  {
   "cell_type": "code",
   "execution_count": 63,
   "metadata": {
    "scrolled": false
   },
   "outputs": [
    {
     "data": {
      "text/html": [
       "<div>\n",
       "<style scoped>\n",
       "    .dataframe tbody tr th:only-of-type {\n",
       "        vertical-align: middle;\n",
       "    }\n",
       "\n",
       "    .dataframe tbody tr th {\n",
       "        vertical-align: top;\n",
       "    }\n",
       "\n",
       "    .dataframe thead th {\n",
       "        text-align: right;\n",
       "    }\n",
       "</style>\n",
       "<table border=\"1\" class=\"dataframe\">\n",
       "  <thead>\n",
       "    <tr style=\"text-align: right;\">\n",
       "      <th></th>\n",
       "      <th>Country</th>\n",
       "      <th>Continent</th>\n",
       "      <th>Population</th>\n",
       "      <th>TotalCases</th>\n",
       "      <th>NewCases</th>\n",
       "      <th>TotalDeaths</th>\n",
       "      <th>NewDeaths</th>\n",
       "      <th>TotalRecovered</th>\n",
       "      <th>NewRecovered</th>\n",
       "      <th>ActiveCases</th>\n",
       "      <th>Critical</th>\n",
       "      <th>CasePerM</th>\n",
       "      <th>DeathPerM</th>\n",
       "      <th>TotalTests</th>\n",
       "      <th>TestPerM</th>\n",
       "      <th>WHOReg</th>\n",
       "    </tr>\n",
       "  </thead>\n",
       "  <tbody>\n",
       "    <tr>\n",
       "      <th>199</th>\n",
       "      <td>Dominica</td>\n",
       "      <td>North America</td>\n",
       "      <td>71988.0</td>\n",
       "      <td>18</td>\n",
       "      <td>NaN</td>\n",
       "      <td>NaN</td>\n",
       "      <td>NaN</td>\n",
       "      <td>18.0</td>\n",
       "      <td>NaN</td>\n",
       "      <td>0.0</td>\n",
       "      <td>NaN</td>\n",
       "      <td>250.0</td>\n",
       "      <td>NaN</td>\n",
       "      <td>623.0</td>\n",
       "      <td>8654.0</td>\n",
       "      <td>Americas</td>\n",
       "    </tr>\n",
       "    <tr>\n",
       "      <th>200</th>\n",
       "      <td>Fiji</td>\n",
       "      <td>Australia/Oceania</td>\n",
       "      <td>896510.0</td>\n",
       "      <td>18</td>\n",
       "      <td>NaN</td>\n",
       "      <td>NaN</td>\n",
       "      <td>NaN</td>\n",
       "      <td>18.0</td>\n",
       "      <td>NaN</td>\n",
       "      <td>0.0</td>\n",
       "      <td>NaN</td>\n",
       "      <td>20.0</td>\n",
       "      <td>NaN</td>\n",
       "      <td>4000.0</td>\n",
       "      <td>4462.0</td>\n",
       "      <td>WesternPacific</td>\n",
       "    </tr>\n",
       "    <tr>\n",
       "      <th>201</th>\n",
       "      <td>Saint Kitts and Nevis</td>\n",
       "      <td>North America</td>\n",
       "      <td>53203.0</td>\n",
       "      <td>16</td>\n",
       "      <td>NaN</td>\n",
       "      <td>NaN</td>\n",
       "      <td>NaN</td>\n",
       "      <td>15.0</td>\n",
       "      <td>NaN</td>\n",
       "      <td>1.0</td>\n",
       "      <td>NaN</td>\n",
       "      <td>301.0</td>\n",
       "      <td>NaN</td>\n",
       "      <td>483.0</td>\n",
       "      <td>9078.0</td>\n",
       "      <td>Americas</td>\n",
       "    </tr>\n",
       "    <tr>\n",
       "      <th>202</th>\n",
       "      <td>Falkland Islands</td>\n",
       "      <td>South America</td>\n",
       "      <td>3480.0</td>\n",
       "      <td>13</td>\n",
       "      <td>NaN</td>\n",
       "      <td>NaN</td>\n",
       "      <td>NaN</td>\n",
       "      <td>13.0</td>\n",
       "      <td>NaN</td>\n",
       "      <td>0.0</td>\n",
       "      <td>NaN</td>\n",
       "      <td>3736.0</td>\n",
       "      <td>NaN</td>\n",
       "      <td>1197.0</td>\n",
       "      <td>343966.0</td>\n",
       "      <td>NaN</td>\n",
       "    </tr>\n",
       "    <tr>\n",
       "      <th>203</th>\n",
       "      <td>Greenland</td>\n",
       "      <td>North America</td>\n",
       "      <td>56771.0</td>\n",
       "      <td>13</td>\n",
       "      <td>NaN</td>\n",
       "      <td>NaN</td>\n",
       "      <td>NaN</td>\n",
       "      <td>13.0</td>\n",
       "      <td>NaN</td>\n",
       "      <td>0.0</td>\n",
       "      <td>NaN</td>\n",
       "      <td>229.0</td>\n",
       "      <td>NaN</td>\n",
       "      <td>3954.0</td>\n",
       "      <td>69648.0</td>\n",
       "      <td>Europe</td>\n",
       "    </tr>\n",
       "    <tr>\n",
       "      <th>204</th>\n",
       "      <td>Vatican City</td>\n",
       "      <td>Europe</td>\n",
       "      <td>801.0</td>\n",
       "      <td>12</td>\n",
       "      <td>NaN</td>\n",
       "      <td>NaN</td>\n",
       "      <td>NaN</td>\n",
       "      <td>12.0</td>\n",
       "      <td>NaN</td>\n",
       "      <td>0.0</td>\n",
       "      <td>NaN</td>\n",
       "      <td>14981.0</td>\n",
       "      <td>NaN</td>\n",
       "      <td>NaN</td>\n",
       "      <td>NaN</td>\n",
       "      <td>Europe</td>\n",
       "    </tr>\n",
       "    <tr>\n",
       "      <th>205</th>\n",
       "      <td>Montserrat</td>\n",
       "      <td>North America</td>\n",
       "      <td>4992.0</td>\n",
       "      <td>11</td>\n",
       "      <td>NaN</td>\n",
       "      <td>1.0</td>\n",
       "      <td>NaN</td>\n",
       "      <td>10.0</td>\n",
       "      <td>NaN</td>\n",
       "      <td>0.0</td>\n",
       "      <td>NaN</td>\n",
       "      <td>2204.0</td>\n",
       "      <td>200.0</td>\n",
       "      <td>61.0</td>\n",
       "      <td>12220.0</td>\n",
       "      <td>NaN</td>\n",
       "    </tr>\n",
       "    <tr>\n",
       "      <th>206</th>\n",
       "      <td>Papua New Guinea</td>\n",
       "      <td>Australia/Oceania</td>\n",
       "      <td>8947704.0</td>\n",
       "      <td>11</td>\n",
       "      <td>NaN</td>\n",
       "      <td>NaN</td>\n",
       "      <td>NaN</td>\n",
       "      <td>8.0</td>\n",
       "      <td>NaN</td>\n",
       "      <td>3.0</td>\n",
       "      <td>NaN</td>\n",
       "      <td>1.0</td>\n",
       "      <td>NaN</td>\n",
       "      <td>7147.0</td>\n",
       "      <td>799.0</td>\n",
       "      <td>WesternPacific</td>\n",
       "    </tr>\n",
       "    <tr>\n",
       "      <th>207</th>\n",
       "      <td>Western Sahara</td>\n",
       "      <td>Africa</td>\n",
       "      <td>597354.0</td>\n",
       "      <td>10</td>\n",
       "      <td>NaN</td>\n",
       "      <td>1.0</td>\n",
       "      <td>NaN</td>\n",
       "      <td>8.0</td>\n",
       "      <td>NaN</td>\n",
       "      <td>1.0</td>\n",
       "      <td>NaN</td>\n",
       "      <td>17.0</td>\n",
       "      <td>2.0</td>\n",
       "      <td>NaN</td>\n",
       "      <td>NaN</td>\n",
       "      <td>Africa</td>\n",
       "    </tr>\n",
       "    <tr>\n",
       "      <th>208</th>\n",
       "      <td>MS Zaandam</td>\n",
       "      <td>NaN</td>\n",
       "      <td>NaN</td>\n",
       "      <td>9</td>\n",
       "      <td>NaN</td>\n",
       "      <td>2.0</td>\n",
       "      <td>NaN</td>\n",
       "      <td>NaN</td>\n",
       "      <td>NaN</td>\n",
       "      <td>7.0</td>\n",
       "      <td>NaN</td>\n",
       "      <td>NaN</td>\n",
       "      <td>NaN</td>\n",
       "      <td>NaN</td>\n",
       "      <td>NaN</td>\n",
       "      <td>NaN</td>\n",
       "    </tr>\n",
       "  </tbody>\n",
       "</table>\n",
       "</div>"
      ],
      "text/plain": [
       "                   Country          Continent  Population  TotalCases  \\\n",
       "199               Dominica      North America     71988.0          18   \n",
       "200                   Fiji  Australia/Oceania    896510.0          18   \n",
       "201  Saint Kitts and Nevis      North America     53203.0          16   \n",
       "202       Falkland Islands      South America      3480.0          13   \n",
       "203              Greenland      North America     56771.0          13   \n",
       "204           Vatican City             Europe       801.0          12   \n",
       "205             Montserrat      North America      4992.0          11   \n",
       "206       Papua New Guinea  Australia/Oceania   8947704.0          11   \n",
       "207         Western Sahara             Africa    597354.0          10   \n",
       "208             MS Zaandam                NaN         NaN           9   \n",
       "\n",
       "     NewCases  TotalDeaths  NewDeaths  TotalRecovered  NewRecovered  \\\n",
       "199       NaN          NaN        NaN            18.0           NaN   \n",
       "200       NaN          NaN        NaN            18.0           NaN   \n",
       "201       NaN          NaN        NaN            15.0           NaN   \n",
       "202       NaN          NaN        NaN            13.0           NaN   \n",
       "203       NaN          NaN        NaN            13.0           NaN   \n",
       "204       NaN          NaN        NaN            12.0           NaN   \n",
       "205       NaN          1.0        NaN            10.0           NaN   \n",
       "206       NaN          NaN        NaN             8.0           NaN   \n",
       "207       NaN          1.0        NaN             8.0           NaN   \n",
       "208       NaN          2.0        NaN             NaN           NaN   \n",
       "\n",
       "     ActiveCases  Critical  CasePerM  DeathPerM  TotalTests  TestPerM  \\\n",
       "199          0.0       NaN     250.0        NaN       623.0    8654.0   \n",
       "200          0.0       NaN      20.0        NaN      4000.0    4462.0   \n",
       "201          1.0       NaN     301.0        NaN       483.0    9078.0   \n",
       "202          0.0       NaN    3736.0        NaN      1197.0  343966.0   \n",
       "203          0.0       NaN     229.0        NaN      3954.0   69648.0   \n",
       "204          0.0       NaN   14981.0        NaN         NaN       NaN   \n",
       "205          0.0       NaN    2204.0      200.0        61.0   12220.0   \n",
       "206          3.0       NaN       1.0        NaN      7147.0     799.0   \n",
       "207          1.0       NaN      17.0        2.0         NaN       NaN   \n",
       "208          7.0       NaN       NaN        NaN         NaN       NaN   \n",
       "\n",
       "             WHOReg  \n",
       "199        Americas  \n",
       "200  WesternPacific  \n",
       "201        Americas  \n",
       "202             NaN  \n",
       "203          Europe  \n",
       "204          Europe  \n",
       "205             NaN  \n",
       "206  WesternPacific  \n",
       "207          Africa  \n",
       "208             NaN  "
      ]
     },
     "execution_count": 63,
     "metadata": {},
     "output_type": "execute_result"
    }
   ],
   "source": [
    "df.columns = ['Country','Continent','Population','TotalCases','NewCases','TotalDeaths','NewDeaths','TotalRecovered','NewRecovered','ActiveCases','Critical','CasePerM','DeathPerM','TotalTests','TestPerM','WHOReg']\n",
    "df.tail(10)"
   ]
  },
  {
   "cell_type": "code",
   "execution_count": 64,
   "metadata": {},
   "outputs": [
    {
     "data": {
      "text/plain": [
       "Country            object\n",
       "Continent          object\n",
       "Population        float64\n",
       "TotalCases          int64\n",
       "NewCases          float64\n",
       "TotalDeaths       float64\n",
       "NewDeaths         float64\n",
       "TotalRecovered    float64\n",
       "NewRecovered      float64\n",
       "ActiveCases       float64\n",
       "Critical          float64\n",
       "CasePerM          float64\n",
       "DeathPerM         float64\n",
       "TotalTests        float64\n",
       "TestPerM          float64\n",
       "WHOReg             object\n",
       "dtype: object"
      ]
     },
     "execution_count": 64,
     "metadata": {},
     "output_type": "execute_result"
    }
   ],
   "source": [
    "df.dtypes"
   ]
  },
  {
   "cell_type": "markdown",
   "metadata": {},
   "source": [
    "Here we have found our data types of columns. So we are going to filter out the numerical columns."
   ]
  },
  {
   "cell_type": "code",
   "execution_count": 65,
   "metadata": {
    "scrolled": false
   },
   "outputs": [
    {
     "data": {
      "text/plain": [
       "['Population',\n",
       " 'TotalCases',\n",
       " 'NewCases',\n",
       " 'TotalDeaths',\n",
       " 'NewDeaths',\n",
       " 'TotalRecovered',\n",
       " 'NewRecovered',\n",
       " 'ActiveCases',\n",
       " 'Critical',\n",
       " 'CasePerM',\n",
       " 'DeathPerM',\n",
       " 'TotalTests',\n",
       " 'TestPerM']"
      ]
     },
     "execution_count": 65,
     "metadata": {},
     "output_type": "execute_result"
    }
   ],
   "source": [
    "cols = []\n",
    "for col in df.columns:\n",
    "    cols.append(col)\n",
    "cols.remove('Country')\n",
    "cols.remove('Continent')\n",
    "cols.remove('WHOReg')\n",
    "cols"
   ]
  },
  {
   "cell_type": "markdown",
   "metadata": {},
   "source": [
    "Categorized the numerical columns by their continent to fill the null values of those columns by their median of their continent."
   ]
  },
  {
   "cell_type": "code",
   "execution_count": 66,
   "metadata": {
    "scrolled": false
   },
   "outputs": [
    {
     "data": {
      "text/plain": [
       "Country            0\n",
       "Continent          2\n",
       "Population         2\n",
       "TotalCases         0\n",
       "NewCases           2\n",
       "TotalDeaths        0\n",
       "NewDeaths          8\n",
       "TotalRecovered     1\n",
       "NewRecovered       2\n",
       "ActiveCases        0\n",
       "Critical           1\n",
       "CasePerM           2\n",
       "DeathPerM          2\n",
       "TotalTests         2\n",
       "TestPerM           2\n",
       "WHOReg            25\n",
       "dtype: int64"
      ]
     },
     "execution_count": 66,
     "metadata": {},
     "output_type": "execute_result"
    }
   ],
   "source": [
    "for col in cols:\n",
    "    df[col] = pd.to_numeric(df[col])\n",
    "    df[col] = df[col].fillna(df.groupby('Continent')[col].transform('median'))\n",
    "\n",
    "df.isna().sum()"
   ]
  },
  {
   "cell_type": "markdown",
   "metadata": {},
   "source": [
    "Still we have some null values as the some of the contitnents such as Australia hasn't updated the data of that day. So it couldn't find the data to measure the mean of that continent."
   ]
  },
  {
   "cell_type": "code",
   "execution_count": 67,
   "metadata": {
    "scrolled": false
   },
   "outputs": [
    {
     "name": "stdout",
     "output_type": "stream",
     "text": [
      "144    Diamond Princess\n",
      "208          MS Zaandam\n",
      "Name: Country, dtype: object\n"
     ]
    }
   ],
   "source": [
    "print(df[df[\"Continent\"].isnull()]['Country'])"
   ]
  },
  {
   "cell_type": "markdown",
   "metadata": {},
   "source": [
    "These are not under any Continent. Found out these are ships. No idea why these two are included."
   ]
  },
  {
   "cell_type": "code",
   "execution_count": 68,
   "metadata": {
    "scrolled": true
   },
   "outputs": [
    {
     "name": "stdout",
     "output_type": "stream",
     "text": [
      "144    Diamond Princess\n",
      "208          MS Zaandam\n",
      "Name: Country, dtype: object\n"
     ]
    }
   ],
   "source": [
    "print(df[df[\"Population\"].isnull()]['Country'])"
   ]
  },
  {
   "cell_type": "code",
   "execution_count": 69,
   "metadata": {
    "scrolled": true
   },
   "outputs": [
    {
     "name": "stdout",
     "output_type": "stream",
     "text": [
      "144    Diamond Princess\n",
      "208          MS Zaandam\n",
      "Name: Country, dtype: object\n"
     ]
    }
   ],
   "source": [
    "print(df[df[\"NewCases\"].isnull()]['Country'])"
   ]
  },
  {
   "cell_type": "code",
   "execution_count": 70,
   "metadata": {
    "scrolled": false
   },
   "outputs": [
    {
     "name": "stdout",
     "output_type": "stream",
     "text": [
      "70            Australia\n",
      "120         New Zealand\n",
      "144    Diamond Princess\n",
      "186    French Polynesia\n",
      "197       New Caledonia\n",
      "200                Fiji\n",
      "206    Papua New Guinea\n",
      "208          MS Zaandam\n",
      "Name: Country, dtype: object\n"
     ]
    }
   ],
   "source": [
    "print(df[df[\"NewDeaths\"].isnull()]['Country'])"
   ]
  },
  {
   "cell_type": "markdown",
   "metadata": {},
   "source": [
    "As the Australia continent hasn't updated the values of that day so there's no median of that contitnent"
   ]
  },
  {
   "cell_type": "code",
   "execution_count": 71,
   "metadata": {},
   "outputs": [
    {
     "name": "stdout",
     "output_type": "stream",
     "text": [
      "208    MS Zaandam\n",
      "Name: Country, dtype: object\n"
     ]
    }
   ],
   "source": [
    "print(df[df[\"TotalRecovered\"].isnull()]['Country'])"
   ]
  },
  {
   "cell_type": "code",
   "execution_count": 72,
   "metadata": {
    "scrolled": true
   },
   "outputs": [
    {
     "name": "stdout",
     "output_type": "stream",
     "text": [
      "144    Diamond Princess\n",
      "208          MS Zaandam\n",
      "Name: Country, dtype: object\n"
     ]
    }
   ],
   "source": [
    "print(df[df[\"NewRecovered\"].isnull()]['Country'])"
   ]
  },
  {
   "cell_type": "code",
   "execution_count": 73,
   "metadata": {},
   "outputs": [
    {
     "name": "stdout",
     "output_type": "stream",
     "text": [
      "208    MS Zaandam\n",
      "Name: Country, dtype: object\n"
     ]
    }
   ],
   "source": [
    "print(df[df[\"Critical\"].isnull()]['Country'])"
   ]
  },
  {
   "cell_type": "code",
   "execution_count": 74,
   "metadata": {
    "scrolled": false
   },
   "outputs": [
    {
     "name": "stdout",
     "output_type": "stream",
     "text": [
      "86              French Guiana\n",
      "93                        CAR\n",
      "101                   Mayotte\n",
      "144          Diamond Princess\n",
      "149           Channel Islands\n",
      "151                   Réunion\n",
      "159               Isle of Man\n",
      "164                Martinique\n",
      "167            Cayman Islands\n",
      "169            Faeroe Islands\n",
      "170                Guadeloupe\n",
      "171                 Gibraltar\n",
      "173                   Brunei \n",
      "177                     Aruba\n",
      "182              Sint Maarten\n",
      "186          French Polynesia\n",
      "188          Turks and Caicos\n",
      "189                     Macao\n",
      "190              Saint Martin\n",
      "192    St. Vincent Grenadines\n",
      "194                   Curaçao\n",
      "197             New Caledonia\n",
      "202          Falkland Islands\n",
      "205                Montserrat\n",
      "208                MS Zaandam\n",
      "Name: Country, dtype: object\n"
     ]
    }
   ],
   "source": [
    "print(df[df[\"WHOReg\"].isnull()]['Country'])"
   ]
  },
  {
   "cell_type": "markdown",
   "metadata": {},
   "source": [
    "So these are the regions that are not classified under any WHO region."
   ]
  },
  {
   "cell_type": "code",
   "execution_count": 75,
   "metadata": {
    "scrolled": false
   },
   "outputs": [
    {
     "data": {
      "image/png": "[encoded data removed]",
      "text/plain": [
       "<Figure size 432x288 with 1 Axes>"
      ]
     },
     "metadata": {},
     "output_type": "display_data"
    }
   ],
   "source": [
    "plot = df[\"Continent\"].value_counts().plot(kind=\"bar\")"
   ]
  },
  {
   "cell_type": "markdown",
   "metadata": {},
   "source": [
    "Africa has the most countries infected with this virus."
   ]
  },
  {
   "cell_type": "code",
   "execution_count": 76,
   "metadata": {
    "scrolled": false
   },
   "outputs": [
    {
     "data": {
      "image/png": "[encoded data removed]",
      "text/plain": [
       "<Figure size 432x288 with 1 Axes>"
      ]
     },
     "metadata": {},
     "output_type": "display_data"
    }
   ],
   "source": [
    "TCC = df.melt(['TotalCases','Continent']).groupby('Continent').TotalCases.sum().dropna().plot(kind='bar')"
   ]
  },
  {
   "cell_type": "markdown",
   "metadata": {},
   "source": [
    "But from here we can see that although countries of Africa are most infected but most cases are in North America. And Australia is in the safest pposition."
   ]
  },
  {
   "cell_type": "code",
   "execution_count": 77,
   "metadata": {
    "scrolled": true
   },
   "outputs": [
    {
     "data": {
      "image/png": "[encoded data removed]",
      "text/plain": [
       "<Figure size 432x288 with 1 Axes>"
      ]
     },
     "metadata": {},
     "output_type": "display_data"
    }
   ],
   "source": [
    "TD = df.melt(['TotalDeaths','Continent']).groupby('Continent').TotalDeaths.sum().dropna().plot(kind='bar')"
   ]
  },
  {
   "cell_type": "markdown",
   "metadata": {},
   "source": [
    "Maximum deaths are in the North America Continent and minimum in the Africa. From here I have an assumption that people of poorer countries have better immune system, or there isn't enough good reporting, must have missed actual death reports"
   ]
  },
  {
   "cell_type": "code",
   "execution_count": 78,
   "metadata": {
    "scrolled": true
   },
   "outputs": [
    {
     "data": {
      "text/html": [
       "<div>\n",
       "<style scoped>\n",
       "    .dataframe tbody tr th:only-of-type {\n",
       "        vertical-align: middle;\n",
       "    }\n",
       "\n",
       "    .dataframe tbody tr th {\n",
       "        vertical-align: top;\n",
       "    }\n",
       "\n",
       "    .dataframe thead th {\n",
       "        text-align: right;\n",
       "    }\n",
       "</style>\n",
       "<table border=\"1\" class=\"dataframe\">\n",
       "  <thead>\n",
       "    <tr style=\"text-align: right;\">\n",
       "      <th></th>\n",
       "      <th>Country</th>\n",
       "      <th>Continent</th>\n",
       "      <th>Population</th>\n",
       "      <th>TotalCases</th>\n",
       "      <th>NewCases</th>\n",
       "      <th>TotalDeaths</th>\n",
       "      <th>NewDeaths</th>\n",
       "      <th>TotalRecovered</th>\n",
       "      <th>NewRecovered</th>\n",
       "      <th>ActiveCases</th>\n",
       "      <th>Critical</th>\n",
       "      <th>CasePerM</th>\n",
       "      <th>DeathPerM</th>\n",
       "      <th>TotalTests</th>\n",
       "      <th>TestPerM</th>\n",
       "      <th>WHOReg</th>\n",
       "    </tr>\n",
       "  </thead>\n",
       "  <tbody>\n",
       "    <tr>\n",
       "      <th>0</th>\n",
       "      <td>USA</td>\n",
       "      <td>North America</td>\n",
       "      <td>3.310234e+08</td>\n",
       "      <td>2936175</td>\n",
       "      <td>405.0</td>\n",
       "      <td>132327.0</td>\n",
       "      <td>9.0</td>\n",
       "      <td>1260619.0</td>\n",
       "      <td>214.0</td>\n",
       "      <td>1543229.0</td>\n",
       "      <td>16017.0</td>\n",
       "      <td>8870.0</td>\n",
       "      <td>400.0</td>\n",
       "      <td>36955038.0</td>\n",
       "      <td>111639.0</td>\n",
       "      <td>Americas</td>\n",
       "    </tr>\n",
       "    <tr>\n",
       "      <th>1</th>\n",
       "      <td>Brazil</td>\n",
       "      <td>South America</td>\n",
       "      <td>2.125747e+08</td>\n",
       "      <td>1578376</td>\n",
       "      <td>1253.0</td>\n",
       "      <td>64365.0</td>\n",
       "      <td>58.0</td>\n",
       "      <td>978615.0</td>\n",
       "      <td>506.0</td>\n",
       "      <td>535396.0</td>\n",
       "      <td>8318.0</td>\n",
       "      <td>7425.0</td>\n",
       "      <td>303.0</td>\n",
       "      <td>3330562.0</td>\n",
       "      <td>15668.0</td>\n",
       "      <td>Americas</td>\n",
       "    </tr>\n",
       "    <tr>\n",
       "      <th>3</th>\n",
       "      <td>India</td>\n",
       "      <td>Asia</td>\n",
       "      <td>1.380123e+09</td>\n",
       "      <td>675453</td>\n",
       "      <td>1549.0</td>\n",
       "      <td>19303.0</td>\n",
       "      <td>24.0</td>\n",
       "      <td>409083.0</td>\n",
       "      <td>21.0</td>\n",
       "      <td>247067.0</td>\n",
       "      <td>8944.0</td>\n",
       "      <td>489.0</td>\n",
       "      <td>14.0</td>\n",
       "      <td>9789066.0</td>\n",
       "      <td>7093.0</td>\n",
       "      <td>South-EastAsia</td>\n",
       "    </tr>\n",
       "    <tr>\n",
       "      <th>7</th>\n",
       "      <td>UK</td>\n",
       "      <td>Europe</td>\n",
       "      <td>6.788994e+07</td>\n",
       "      <td>284900</td>\n",
       "      <td>57.0</td>\n",
       "      <td>44198.0</td>\n",
       "      <td>3.5</td>\n",
       "      <td>2854.5</td>\n",
       "      <td>99.5</td>\n",
       "      <td>660.5</td>\n",
       "      <td>231.0</td>\n",
       "      <td>4196.0</td>\n",
       "      <td>651.0</td>\n",
       "      <td>10340511.0</td>\n",
       "      <td>152313.0</td>\n",
       "      <td>Europe</td>\n",
       "    </tr>\n",
       "    <tr>\n",
       "      <th>22</th>\n",
       "      <td>Egypt</td>\n",
       "      <td>Africa</td>\n",
       "      <td>1.023422e+08</td>\n",
       "      <td>74035</td>\n",
       "      <td>116.0</td>\n",
       "      <td>3280.0</td>\n",
       "      <td>4.0</td>\n",
       "      <td>20103.0</td>\n",
       "      <td>49.0</td>\n",
       "      <td>50652.0</td>\n",
       "      <td>41.0</td>\n",
       "      <td>723.0</td>\n",
       "      <td>32.0</td>\n",
       "      <td>135000.0</td>\n",
       "      <td>1319.0</td>\n",
       "      <td>EasternMediterranean</td>\n",
       "    </tr>\n",
       "    <tr>\n",
       "      <th>70</th>\n",
       "      <td>Australia</td>\n",
       "      <td>Australia/Oceania</td>\n",
       "      <td>2.550220e+07</td>\n",
       "      <td>8449</td>\n",
       "      <td>87.0</td>\n",
       "      <td>104.0</td>\n",
       "      <td>NaN</td>\n",
       "      <td>7399.0</td>\n",
       "      <td>44.0</td>\n",
       "      <td>946.0</td>\n",
       "      <td>4.0</td>\n",
       "      <td>331.0</td>\n",
       "      <td>4.0</td>\n",
       "      <td>2711849.0</td>\n",
       "      <td>106338.0</td>\n",
       "      <td>WesternPacific</td>\n",
       "    </tr>\n",
       "  </tbody>\n",
       "</table>\n",
       "</div>"
      ],
      "text/plain": [
       "      Country          Continent    Population  TotalCases  NewCases  \\\n",
       "0         USA      North America  3.310234e+08     2936175     405.0   \n",
       "1      Brazil      South America  2.125747e+08     1578376    1253.0   \n",
       "3       India               Asia  1.380123e+09      675453    1549.0   \n",
       "7          UK             Europe  6.788994e+07      284900      57.0   \n",
       "22      Egypt             Africa  1.023422e+08       74035     116.0   \n",
       "70  Australia  Australia/Oceania  2.550220e+07        8449      87.0   \n",
       "\n",
       "    TotalDeaths  NewDeaths  TotalRecovered  NewRecovered  ActiveCases  \\\n",
       "0      132327.0        9.0       1260619.0         214.0    1543229.0   \n",
       "1       64365.0       58.0        978615.0         506.0     535396.0   \n",
       "3       19303.0       24.0        409083.0          21.0     247067.0   \n",
       "7       44198.0        3.5          2854.5          99.5        660.5   \n",
       "22       3280.0        4.0         20103.0          49.0      50652.0   \n",
       "70        104.0        NaN          7399.0          44.0        946.0   \n",
       "\n",
       "    Critical  CasePerM  DeathPerM  TotalTests  TestPerM                WHOReg  \n",
       "0    16017.0    8870.0      400.0  36955038.0  111639.0              Americas  \n",
       "1     8318.0    7425.0      303.0   3330562.0   15668.0              Americas  \n",
       "3     8944.0     489.0       14.0   9789066.0    7093.0        South-EastAsia  \n",
       "7      231.0    4196.0      651.0  10340511.0  152313.0                Europe  \n",
       "22      41.0     723.0       32.0    135000.0    1319.0  EasternMediterranean  \n",
       "70       4.0     331.0        4.0   2711849.0  106338.0        WesternPacific  "
      ]
     },
     "execution_count": 78,
     "metadata": {},
     "output_type": "execute_result"
    }
   ],
   "source": [
    "idx = df.groupby(['Continent'])['TotalDeaths'].transform(max) == df['TotalDeaths']\n",
    "df[idx]"
   ]
  },
  {
   "cell_type": "markdown",
   "metadata": {},
   "source": [
    "USA is highest with the number of deaths in North America continent as well as among all the countries in the world. India has the first position in Asia."
   ]
  },
  {
   "cell_type": "code",
   "execution_count": 79,
   "metadata": {
    "scrolled": false
   },
   "outputs": [
    {
     "data": {
      "image/png": "[encoded data removed]",
      "text/plain": [
       "<Figure size 432x288 with 1 Axes>"
      ]
     },
     "metadata": {},
     "output_type": "display_data"
    }
   ],
   "source": [
    "TR = df.melt(['TotalRecovered','Continent']).groupby('Continent').TotalRecovered.sum().dropna().plot(kind='bar')"
   ]
  },
  {
   "cell_type": "markdown",
   "metadata": {},
   "source": [
    "In terms of total recovery Asia is in the top position! It seems like people of Asia continent has better immune system than others as they don't have good health department like European or American countries. "
   ]
  },
  {
   "cell_type": "code",
   "execution_count": 80,
   "metadata": {
    "scrolled": true
   },
   "outputs": [
    {
     "data": {
      "text/html": [
       "<div>\n",
       "<style scoped>\n",
       "    .dataframe tbody tr th:only-of-type {\n",
       "        vertical-align: middle;\n",
       "    }\n",
       "\n",
       "    .dataframe tbody tr th {\n",
       "        vertical-align: top;\n",
       "    }\n",
       "\n",
       "    .dataframe thead th {\n",
       "        text-align: right;\n",
       "    }\n",
       "</style>\n",
       "<table border=\"1\" class=\"dataframe\">\n",
       "  <thead>\n",
       "    <tr style=\"text-align: right;\">\n",
       "      <th></th>\n",
       "      <th>Country</th>\n",
       "      <th>Continent</th>\n",
       "      <th>Population</th>\n",
       "      <th>TotalCases</th>\n",
       "      <th>NewCases</th>\n",
       "      <th>TotalDeaths</th>\n",
       "      <th>NewDeaths</th>\n",
       "      <th>TotalRecovered</th>\n",
       "      <th>NewRecovered</th>\n",
       "      <th>ActiveCases</th>\n",
       "      <th>Critical</th>\n",
       "      <th>CasePerM</th>\n",
       "      <th>DeathPerM</th>\n",
       "      <th>TotalTests</th>\n",
       "      <th>TestPerM</th>\n",
       "      <th>WHOReg</th>\n",
       "    </tr>\n",
       "  </thead>\n",
       "  <tbody>\n",
       "    <tr>\n",
       "      <th>0</th>\n",
       "      <td>USA</td>\n",
       "      <td>North America</td>\n",
       "      <td>3.310234e+08</td>\n",
       "      <td>2936175</td>\n",
       "      <td>405.0</td>\n",
       "      <td>132327.0</td>\n",
       "      <td>9.0</td>\n",
       "      <td>1260619.0</td>\n",
       "      <td>214.0</td>\n",
       "      <td>1543229.0</td>\n",
       "      <td>16017.0</td>\n",
       "      <td>8870.0</td>\n",
       "      <td>400.0</td>\n",
       "      <td>36955038.0</td>\n",
       "      <td>111639.0</td>\n",
       "      <td>Americas</td>\n",
       "    </tr>\n",
       "    <tr>\n",
       "      <th>1</th>\n",
       "      <td>Brazil</td>\n",
       "      <td>South America</td>\n",
       "      <td>2.125747e+08</td>\n",
       "      <td>1578376</td>\n",
       "      <td>1253.0</td>\n",
       "      <td>64365.0</td>\n",
       "      <td>58.0</td>\n",
       "      <td>978615.0</td>\n",
       "      <td>506.0</td>\n",
       "      <td>535396.0</td>\n",
       "      <td>8318.0</td>\n",
       "      <td>7425.0</td>\n",
       "      <td>303.0</td>\n",
       "      <td>3330562.0</td>\n",
       "      <td>15668.0</td>\n",
       "      <td>Americas</td>\n",
       "    </tr>\n",
       "    <tr>\n",
       "      <th>3</th>\n",
       "      <td>India</td>\n",
       "      <td>Asia</td>\n",
       "      <td>1.380123e+09</td>\n",
       "      <td>675453</td>\n",
       "      <td>1549.0</td>\n",
       "      <td>19303.0</td>\n",
       "      <td>24.0</td>\n",
       "      <td>409083.0</td>\n",
       "      <td>21.0</td>\n",
       "      <td>247067.0</td>\n",
       "      <td>8944.0</td>\n",
       "      <td>489.0</td>\n",
       "      <td>14.0</td>\n",
       "      <td>9789066.0</td>\n",
       "      <td>7093.0</td>\n",
       "      <td>South-EastAsia</td>\n",
       "    </tr>\n",
       "    <tr>\n",
       "      <th>7</th>\n",
       "      <td>UK</td>\n",
       "      <td>Europe</td>\n",
       "      <td>6.788994e+07</td>\n",
       "      <td>284900</td>\n",
       "      <td>57.0</td>\n",
       "      <td>44198.0</td>\n",
       "      <td>3.5</td>\n",
       "      <td>2854.5</td>\n",
       "      <td>99.5</td>\n",
       "      <td>660.5</td>\n",
       "      <td>231.0</td>\n",
       "      <td>4196.0</td>\n",
       "      <td>651.0</td>\n",
       "      <td>10340511.0</td>\n",
       "      <td>152313.0</td>\n",
       "      <td>Europe</td>\n",
       "    </tr>\n",
       "    <tr>\n",
       "      <th>22</th>\n",
       "      <td>Egypt</td>\n",
       "      <td>Africa</td>\n",
       "      <td>1.023422e+08</td>\n",
       "      <td>74035</td>\n",
       "      <td>116.0</td>\n",
       "      <td>3280.0</td>\n",
       "      <td>4.0</td>\n",
       "      <td>20103.0</td>\n",
       "      <td>49.0</td>\n",
       "      <td>50652.0</td>\n",
       "      <td>41.0</td>\n",
       "      <td>723.0</td>\n",
       "      <td>32.0</td>\n",
       "      <td>135000.0</td>\n",
       "      <td>1319.0</td>\n",
       "      <td>EasternMediterranean</td>\n",
       "    </tr>\n",
       "    <tr>\n",
       "      <th>70</th>\n",
       "      <td>Australia</td>\n",
       "      <td>Australia/Oceania</td>\n",
       "      <td>2.550220e+07</td>\n",
       "      <td>8449</td>\n",
       "      <td>87.0</td>\n",
       "      <td>104.0</td>\n",
       "      <td>NaN</td>\n",
       "      <td>7399.0</td>\n",
       "      <td>44.0</td>\n",
       "      <td>946.0</td>\n",
       "      <td>4.0</td>\n",
       "      <td>331.0</td>\n",
       "      <td>4.0</td>\n",
       "      <td>2711849.0</td>\n",
       "      <td>106338.0</td>\n",
       "      <td>WesternPacific</td>\n",
       "    </tr>\n",
       "  </tbody>\n",
       "</table>\n",
       "</div>"
      ],
      "text/plain": [
       "      Country          Continent    Population  TotalCases  NewCases  \\\n",
       "0         USA      North America  3.310234e+08     2936175     405.0   \n",
       "1      Brazil      South America  2.125747e+08     1578376    1253.0   \n",
       "3       India               Asia  1.380123e+09      675453    1549.0   \n",
       "7          UK             Europe  6.788994e+07      284900      57.0   \n",
       "22      Egypt             Africa  1.023422e+08       74035     116.0   \n",
       "70  Australia  Australia/Oceania  2.550220e+07        8449      87.0   \n",
       "\n",
       "    TotalDeaths  NewDeaths  TotalRecovered  NewRecovered  ActiveCases  \\\n",
       "0      132327.0        9.0       1260619.0         214.0    1543229.0   \n",
       "1       64365.0       58.0        978615.0         506.0     535396.0   \n",
       "3       19303.0       24.0        409083.0          21.0     247067.0   \n",
       "7       44198.0        3.5          2854.5          99.5        660.5   \n",
       "22       3280.0        4.0         20103.0          49.0      50652.0   \n",
       "70        104.0        NaN          7399.0          44.0        946.0   \n",
       "\n",
       "    Critical  CasePerM  DeathPerM  TotalTests  TestPerM                WHOReg  \n",
       "0    16017.0    8870.0      400.0  36955038.0  111639.0              Americas  \n",
       "1     8318.0    7425.0      303.0   3330562.0   15668.0              Americas  \n",
       "3     8944.0     489.0       14.0   9789066.0    7093.0        South-EastAsia  \n",
       "7      231.0    4196.0      651.0  10340511.0  152313.0                Europe  \n",
       "22      41.0     723.0       32.0    135000.0    1319.0  EasternMediterranean  \n",
       "70       4.0     331.0        4.0   2711849.0  106338.0        WesternPacific  "
      ]
     },
     "execution_count": 80,
     "metadata": {},
     "output_type": "execute_result"
    }
   ],
   "source": [
    "idx = df.groupby(['Continent'])['TotalDeaths'].transform(max) == df['TotalDeaths']\n",
    "df[idx]"
   ]
  },
  {
   "cell_type": "markdown",
   "metadata": {},
   "source": [
    "USA has the highest number of recovery in North America as well as around the world. India has got the top position in terms of recovery in Asia. They are also top in terms of death and total cases of their own continent."
   ]
  },
  {
   "cell_type": "code",
   "execution_count": 81,
   "metadata": {
    "scrolled": false
   },
   "outputs": [
    {
     "data": {
      "image/png": "[encoded data removed]",
      "text/plain": [
       "<Figure size 432x288 with 1 Axes>"
      ]
     },
     "metadata": {},
     "output_type": "display_data"
    }
   ],
   "source": [
    "TT = df.melt(['TotalTests','Continent']).groupby('Continent').TotalTests.sum().dropna().plot(kind='bar')"
   ]
  },
  {
   "cell_type": "markdown",
   "metadata": {},
   "source": [
    "In terms of tests Europe is in the top position. Australia is the lowest but that's okay because they are also less indected. But The number of tests in Africa and South America shows that the economic situation is not in control their. Also they are not getting enough help. Africa has the 2nd most number infected countries and South America has a good portion of deaths and infection number. But according to that their number of tests are very less."
   ]
  },
  {
   "cell_type": "code",
   "execution_count": 82,
   "metadata": {
    "scrolled": true
   },
   "outputs": [
    {
     "data": {
      "text/html": [
       "<div>\n",
       "<style scoped>\n",
       "    .dataframe tbody tr th:only-of-type {\n",
       "        vertical-align: middle;\n",
       "    }\n",
       "\n",
       "    .dataframe tbody tr th {\n",
       "        vertical-align: top;\n",
       "    }\n",
       "\n",
       "    .dataframe thead th {\n",
       "        text-align: right;\n",
       "    }\n",
       "</style>\n",
       "<table border=\"1\" class=\"dataframe\">\n",
       "  <thead>\n",
       "    <tr style=\"text-align: right;\">\n",
       "      <th></th>\n",
       "      <th>Country</th>\n",
       "      <th>Continent</th>\n",
       "      <th>Population</th>\n",
       "      <th>TotalCases</th>\n",
       "      <th>NewCases</th>\n",
       "      <th>TotalDeaths</th>\n",
       "      <th>NewDeaths</th>\n",
       "      <th>TotalRecovered</th>\n",
       "      <th>NewRecovered</th>\n",
       "      <th>ActiveCases</th>\n",
       "      <th>Critical</th>\n",
       "      <th>CasePerM</th>\n",
       "      <th>DeathPerM</th>\n",
       "      <th>TotalTests</th>\n",
       "      <th>TestPerM</th>\n",
       "      <th>WHOReg</th>\n",
       "    </tr>\n",
       "  </thead>\n",
       "  <tbody>\n",
       "    <tr>\n",
       "      <th>0</th>\n",
       "      <td>USA</td>\n",
       "      <td>North America</td>\n",
       "      <td>3.310234e+08</td>\n",
       "      <td>2936175</td>\n",
       "      <td>405.0</td>\n",
       "      <td>132327.0</td>\n",
       "      <td>9.0</td>\n",
       "      <td>1260619.0</td>\n",
       "      <td>214.0</td>\n",
       "      <td>1543229.0</td>\n",
       "      <td>16017.0</td>\n",
       "      <td>8870.0</td>\n",
       "      <td>400.0</td>\n",
       "      <td>36955038.0</td>\n",
       "      <td>111639.0</td>\n",
       "      <td>Americas</td>\n",
       "    </tr>\n",
       "    <tr>\n",
       "      <th>1</th>\n",
       "      <td>Brazil</td>\n",
       "      <td>South America</td>\n",
       "      <td>2.125747e+08</td>\n",
       "      <td>1578376</td>\n",
       "      <td>1253.0</td>\n",
       "      <td>64365.0</td>\n",
       "      <td>58.0</td>\n",
       "      <td>978615.0</td>\n",
       "      <td>506.0</td>\n",
       "      <td>535396.0</td>\n",
       "      <td>8318.0</td>\n",
       "      <td>7425.0</td>\n",
       "      <td>303.0</td>\n",
       "      <td>3330562.0</td>\n",
       "      <td>15668.0</td>\n",
       "      <td>Americas</td>\n",
       "    </tr>\n",
       "    <tr>\n",
       "      <th>2</th>\n",
       "      <td>Russia</td>\n",
       "      <td>Europe</td>\n",
       "      <td>1.459353e+08</td>\n",
       "      <td>681251</td>\n",
       "      <td>6736.0</td>\n",
       "      <td>10161.0</td>\n",
       "      <td>134.0</td>\n",
       "      <td>450750.0</td>\n",
       "      <td>3871.0</td>\n",
       "      <td>220340.0</td>\n",
       "      <td>2300.0</td>\n",
       "      <td>4668.0</td>\n",
       "      <td>70.0</td>\n",
       "      <td>21069457.0</td>\n",
       "      <td>144375.0</td>\n",
       "      <td>Europe</td>\n",
       "    </tr>\n",
       "    <tr>\n",
       "      <th>3</th>\n",
       "      <td>India</td>\n",
       "      <td>Asia</td>\n",
       "      <td>1.380123e+09</td>\n",
       "      <td>675453</td>\n",
       "      <td>1549.0</td>\n",
       "      <td>19303.0</td>\n",
       "      <td>24.0</td>\n",
       "      <td>409083.0</td>\n",
       "      <td>21.0</td>\n",
       "      <td>247067.0</td>\n",
       "      <td>8944.0</td>\n",
       "      <td>489.0</td>\n",
       "      <td>14.0</td>\n",
       "      <td>9789066.0</td>\n",
       "      <td>7093.0</td>\n",
       "      <td>South-EastAsia</td>\n",
       "    </tr>\n",
       "    <tr>\n",
       "      <th>15</th>\n",
       "      <td>South Africa</td>\n",
       "      <td>Africa</td>\n",
       "      <td>5.931415e+07</td>\n",
       "      <td>187977</td>\n",
       "      <td>116.0</td>\n",
       "      <td>3026.0</td>\n",
       "      <td>4.0</td>\n",
       "      <td>91227.0</td>\n",
       "      <td>49.0</td>\n",
       "      <td>93724.0</td>\n",
       "      <td>539.0</td>\n",
       "      <td>3169.0</td>\n",
       "      <td>51.0</td>\n",
       "      <td>1792078.0</td>\n",
       "      <td>30213.0</td>\n",
       "      <td>Africa</td>\n",
       "    </tr>\n",
       "    <tr>\n",
       "      <th>70</th>\n",
       "      <td>Australia</td>\n",
       "      <td>Australia/Oceania</td>\n",
       "      <td>2.550220e+07</td>\n",
       "      <td>8449</td>\n",
       "      <td>87.0</td>\n",
       "      <td>104.0</td>\n",
       "      <td>NaN</td>\n",
       "      <td>7399.0</td>\n",
       "      <td>44.0</td>\n",
       "      <td>946.0</td>\n",
       "      <td>4.0</td>\n",
       "      <td>331.0</td>\n",
       "      <td>4.0</td>\n",
       "      <td>2711849.0</td>\n",
       "      <td>106338.0</td>\n",
       "      <td>WesternPacific</td>\n",
       "    </tr>\n",
       "  </tbody>\n",
       "</table>\n",
       "</div>"
      ],
      "text/plain": [
       "         Country          Continent    Population  TotalCases  NewCases  \\\n",
       "0            USA      North America  3.310234e+08     2936175     405.0   \n",
       "1         Brazil      South America  2.125747e+08     1578376    1253.0   \n",
       "2         Russia             Europe  1.459353e+08      681251    6736.0   \n",
       "3          India               Asia  1.380123e+09      675453    1549.0   \n",
       "15  South Africa             Africa  5.931415e+07      187977     116.0   \n",
       "70     Australia  Australia/Oceania  2.550220e+07        8449      87.0   \n",
       "\n",
       "    TotalDeaths  NewDeaths  TotalRecovered  NewRecovered  ActiveCases  \\\n",
       "0      132327.0        9.0       1260619.0         214.0    1543229.0   \n",
       "1       64365.0       58.0        978615.0         506.0     535396.0   \n",
       "2       10161.0      134.0        450750.0        3871.0     220340.0   \n",
       "3       19303.0       24.0        409083.0          21.0     247067.0   \n",
       "15       3026.0        4.0         91227.0          49.0      93724.0   \n",
       "70        104.0        NaN          7399.0          44.0        946.0   \n",
       "\n",
       "    Critical  CasePerM  DeathPerM  TotalTests  TestPerM          WHOReg  \n",
       "0    16017.0    8870.0      400.0  36955038.0  111639.0        Americas  \n",
       "1     8318.0    7425.0      303.0   3330562.0   15668.0        Americas  \n",
       "2     2300.0    4668.0       70.0  21069457.0  144375.0          Europe  \n",
       "3     8944.0     489.0       14.0   9789066.0    7093.0  South-EastAsia  \n",
       "15     539.0    3169.0       51.0   1792078.0   30213.0          Africa  \n",
       "70       4.0     331.0        4.0   2711849.0  106338.0  WesternPacific  "
      ]
     },
     "execution_count": 82,
     "metadata": {},
     "output_type": "execute_result"
    }
   ],
   "source": [
    "idx = df.groupby(['Continent'])['TotalTests'].transform(max) == df['TotalTests']\n",
    "df[idx]"
   ]
  },
  {
   "cell_type": "markdown",
   "metadata": {},
   "source": [
    "India has got the highest number of tests among all countries. Although Brazil has a lot of infected cases and deaths but their number of tests are very less. It shows that Brazil is now in a very critical position."
   ]
  },
  {
   "cell_type": "code",
   "execution_count": 83,
   "metadata": {
    "scrolled": true
   },
   "outputs": [
    {
     "data": {
      "text/html": [
       "<div>\n",
       "<style scoped>\n",
       "    .dataframe tbody tr th:only-of-type {\n",
       "        vertical-align: middle;\n",
       "    }\n",
       "\n",
       "    .dataframe tbody tr th {\n",
       "        vertical-align: top;\n",
       "    }\n",
       "\n",
       "    .dataframe thead th {\n",
       "        text-align: right;\n",
       "    }\n",
       "</style>\n",
       "<table border=\"1\" class=\"dataframe\">\n",
       "  <thead>\n",
       "    <tr style=\"text-align: right;\">\n",
       "      <th></th>\n",
       "      <th>Country</th>\n",
       "      <th>Continent</th>\n",
       "      <th>Population</th>\n",
       "      <th>TotalCases</th>\n",
       "      <th>NewCases</th>\n",
       "      <th>TotalDeaths</th>\n",
       "      <th>NewDeaths</th>\n",
       "      <th>TotalRecovered</th>\n",
       "      <th>NewRecovered</th>\n",
       "      <th>ActiveCases</th>\n",
       "      <th>Critical</th>\n",
       "      <th>CasePerM</th>\n",
       "      <th>DeathPerM</th>\n",
       "      <th>TotalTests</th>\n",
       "      <th>TestPerM</th>\n",
       "      <th>WHOReg</th>\n",
       "    </tr>\n",
       "  </thead>\n",
       "  <tbody>\n",
       "    <tr>\n",
       "      <th>67</th>\n",
       "      <td>Sudan</td>\n",
       "      <td>Africa</td>\n",
       "      <td>43850981.0</td>\n",
       "      <td>9767</td>\n",
       "      <td>104.0</td>\n",
       "      <td>608.0</td>\n",
       "      <td>4.0</td>\n",
       "      <td>4673.0</td>\n",
       "      <td>49.0</td>\n",
       "      <td>4486.0</td>\n",
       "      <td>6.5</td>\n",
       "      <td>223.0</td>\n",
       "      <td>14.0</td>\n",
       "      <td>401.0</td>\n",
       "      <td>9.0</td>\n",
       "      <td>EasternMediterranean</td>\n",
       "    </tr>\n",
       "    <tr>\n",
       "      <th>79</th>\n",
       "      <td>Haiti</td>\n",
       "      <td>North America</td>\n",
       "      <td>11403573.0</td>\n",
       "      <td>6294</td>\n",
       "      <td>64.0</td>\n",
       "      <td>113.0</td>\n",
       "      <td>3.0</td>\n",
       "      <td>1408.0</td>\n",
       "      <td>122.0</td>\n",
       "      <td>4773.0</td>\n",
       "      <td>7.5</td>\n",
       "      <td>552.0</td>\n",
       "      <td>10.0</td>\n",
       "      <td>12847.0</td>\n",
       "      <td>1127.0</td>\n",
       "      <td>Americas</td>\n",
       "    </tr>\n",
       "    <tr>\n",
       "      <th>100</th>\n",
       "      <td>Albania</td>\n",
       "      <td>Europe</td>\n",
       "      <td>2877753.0</td>\n",
       "      <td>2893</td>\n",
       "      <td>74.0</td>\n",
       "      <td>76.0</td>\n",
       "      <td>2.0</td>\n",
       "      <td>1657.0</td>\n",
       "      <td>20.0</td>\n",
       "      <td>1160.0</td>\n",
       "      <td>8.0</td>\n",
       "      <td>1005.0</td>\n",
       "      <td>26.0</td>\n",
       "      <td>24601.0</td>\n",
       "      <td>8549.0</td>\n",
       "      <td>Europe</td>\n",
       "    </tr>\n",
       "    <tr>\n",
       "      <th>123</th>\n",
       "      <td>Yemen</td>\n",
       "      <td>Asia</td>\n",
       "      <td>29827531.0</td>\n",
       "      <td>1248</td>\n",
       "      <td>283.0</td>\n",
       "      <td>337.0</td>\n",
       "      <td>10.0</td>\n",
       "      <td>537.0</td>\n",
       "      <td>88.0</td>\n",
       "      <td>374.0</td>\n",
       "      <td>24.5</td>\n",
       "      <td>42.0</td>\n",
       "      <td>11.0</td>\n",
       "      <td>120.0</td>\n",
       "      <td>4.0</td>\n",
       "      <td>EasternMediterranean</td>\n",
       "    </tr>\n",
       "    <tr>\n",
       "      <th>150</th>\n",
       "      <td>Suriname</td>\n",
       "      <td>South America</td>\n",
       "      <td>586680.0</td>\n",
       "      <td>565</td>\n",
       "      <td>1253.0</td>\n",
       "      <td>14.0</td>\n",
       "      <td>58.0</td>\n",
       "      <td>276.0</td>\n",
       "      <td>506.0</td>\n",
       "      <td>275.0</td>\n",
       "      <td>6.0</td>\n",
       "      <td>963.0</td>\n",
       "      <td>24.0</td>\n",
       "      <td>1244.0</td>\n",
       "      <td>2120.0</td>\n",
       "      <td>Americas</td>\n",
       "    </tr>\n",
       "    <tr>\n",
       "      <th>206</th>\n",
       "      <td>Papua New Guinea</td>\n",
       "      <td>Australia/Oceania</td>\n",
       "      <td>8947704.0</td>\n",
       "      <td>11</td>\n",
       "      <td>45.0</td>\n",
       "      <td>63.0</td>\n",
       "      <td>NaN</td>\n",
       "      <td>8.0</td>\n",
       "      <td>44.0</td>\n",
       "      <td>3.0</td>\n",
       "      <td>2.5</td>\n",
       "      <td>1.0</td>\n",
       "      <td>4.0</td>\n",
       "      <td>7147.0</td>\n",
       "      <td>799.0</td>\n",
       "      <td>WesternPacific</td>\n",
       "    </tr>\n",
       "  </tbody>\n",
       "</table>\n",
       "</div>"
      ],
      "text/plain": [
       "              Country          Continent  Population  TotalCases  NewCases  \\\n",
       "67              Sudan             Africa  43850981.0        9767     104.0   \n",
       "79              Haiti      North America  11403573.0        6294      64.0   \n",
       "100           Albania             Europe   2877753.0        2893      74.0   \n",
       "123             Yemen               Asia  29827531.0        1248     283.0   \n",
       "150          Suriname      South America    586680.0         565    1253.0   \n",
       "206  Papua New Guinea  Australia/Oceania   8947704.0          11      45.0   \n",
       "\n",
       "     TotalDeaths  NewDeaths  TotalRecovered  NewRecovered  ActiveCases  \\\n",
       "67         608.0        4.0          4673.0          49.0       4486.0   \n",
       "79         113.0        3.0          1408.0         122.0       4773.0   \n",
       "100         76.0        2.0          1657.0          20.0       1160.0   \n",
       "123        337.0       10.0           537.0          88.0        374.0   \n",
       "150         14.0       58.0           276.0         506.0        275.0   \n",
       "206         63.0        NaN             8.0          44.0          3.0   \n",
       "\n",
       "     Critical  CasePerM  DeathPerM  TotalTests  TestPerM                WHOReg  \n",
       "67        6.5     223.0       14.0       401.0       9.0  EasternMediterranean  \n",
       "79        7.5     552.0       10.0     12847.0    1127.0              Americas  \n",
       "100       8.0    1005.0       26.0     24601.0    8549.0                Europe  \n",
       "123      24.5      42.0       11.0       120.0       4.0  EasternMediterranean  \n",
       "150       6.0     963.0       24.0      1244.0    2120.0              Americas  \n",
       "206       2.5       1.0        4.0      7147.0     799.0        WesternPacific  "
      ]
     },
     "execution_count": 83,
     "metadata": {},
     "output_type": "execute_result"
    }
   ],
   "source": [
    "idx = df.groupby(['Continent'])['TestPerM'].transform(min) == df['TestPerM']\n",
    "df[idx]"
   ]
  },
  {
   "cell_type": "markdown",
   "metadata": {},
   "source": [
    "Here we can see that the situation in sudan is very unwell. Per million they have done only 9 tests! that's not a good sign. It shows why Africa is in danger postion. The almighty Allah helping them now only. In Asia Yemen is has the lowest number of tests per million.They are the lowest in this list. Only 4/million tests done here. This country wasn't in a good position and the situation there got worsen."
   ]
  },
  {
   "cell_type": "code",
   "execution_count": 84,
   "metadata": {
    "scrolled": false
   },
   "outputs": [
    {
     "data": {
      "image/png": "[encoded data removed]",
      "text/plain": [
       "<Figure size 432x288 with 1 Axes>"
      ]
     },
     "metadata": {},
     "output_type": "display_data"
    }
   ],
   "source": [
    "TAC = df.melt(['ActiveCases','Continent']).groupby('Continent').ActiveCases.sum().dropna().plot(kind='bar')"
   ]
  },
  {
   "cell_type": "markdown",
   "metadata": {},
   "source": [
    "So North America and South America are now the red zone for this pandemic. Asia is rising gradually and gonna be the next hit."
   ]
  },
  {
   "cell_type": "code",
   "execution_count": 85,
   "metadata": {
    "scrolled": false
   },
   "outputs": [
    {
     "data": {
      "text/html": [
       "<div>\n",
       "<style scoped>\n",
       "    .dataframe tbody tr th:only-of-type {\n",
       "        vertical-align: middle;\n",
       "    }\n",
       "\n",
       "    .dataframe tbody tr th {\n",
       "        vertical-align: top;\n",
       "    }\n",
       "\n",
       "    .dataframe thead th {\n",
       "        text-align: right;\n",
       "    }\n",
       "</style>\n",
       "<table border=\"1\" class=\"dataframe\">\n",
       "  <thead>\n",
       "    <tr style=\"text-align: right;\">\n",
       "      <th></th>\n",
       "      <th>Country</th>\n",
       "      <th>Continent</th>\n",
       "      <th>Population</th>\n",
       "      <th>TotalCases</th>\n",
       "      <th>NewCases</th>\n",
       "      <th>TotalDeaths</th>\n",
       "      <th>NewDeaths</th>\n",
       "      <th>TotalRecovered</th>\n",
       "      <th>NewRecovered</th>\n",
       "      <th>ActiveCases</th>\n",
       "      <th>Critical</th>\n",
       "      <th>CasePerM</th>\n",
       "      <th>DeathPerM</th>\n",
       "      <th>TotalTests</th>\n",
       "      <th>TestPerM</th>\n",
       "      <th>WHOReg</th>\n",
       "    </tr>\n",
       "  </thead>\n",
       "  <tbody>\n",
       "    <tr>\n",
       "      <th>0</th>\n",
       "      <td>USA</td>\n",
       "      <td>North America</td>\n",
       "      <td>3.310234e+08</td>\n",
       "      <td>2936175</td>\n",
       "      <td>405.0</td>\n",
       "      <td>132327.0</td>\n",
       "      <td>9.0</td>\n",
       "      <td>1260619.0</td>\n",
       "      <td>214.0</td>\n",
       "      <td>1543229.0</td>\n",
       "      <td>16017.0</td>\n",
       "      <td>8870.0</td>\n",
       "      <td>400.0</td>\n",
       "      <td>36955038.0</td>\n",
       "      <td>111639.0</td>\n",
       "      <td>Americas</td>\n",
       "    </tr>\n",
       "    <tr>\n",
       "      <th>1</th>\n",
       "      <td>Brazil</td>\n",
       "      <td>South America</td>\n",
       "      <td>2.125747e+08</td>\n",
       "      <td>1578376</td>\n",
       "      <td>1253.0</td>\n",
       "      <td>64365.0</td>\n",
       "      <td>58.0</td>\n",
       "      <td>978615.0</td>\n",
       "      <td>506.0</td>\n",
       "      <td>535396.0</td>\n",
       "      <td>8318.0</td>\n",
       "      <td>7425.0</td>\n",
       "      <td>303.0</td>\n",
       "      <td>3330562.0</td>\n",
       "      <td>15668.0</td>\n",
       "      <td>Americas</td>\n",
       "    </tr>\n",
       "    <tr>\n",
       "      <th>2</th>\n",
       "      <td>Russia</td>\n",
       "      <td>Europe</td>\n",
       "      <td>1.459353e+08</td>\n",
       "      <td>681251</td>\n",
       "      <td>6736.0</td>\n",
       "      <td>10161.0</td>\n",
       "      <td>134.0</td>\n",
       "      <td>450750.0</td>\n",
       "      <td>3871.0</td>\n",
       "      <td>220340.0</td>\n",
       "      <td>2300.0</td>\n",
       "      <td>4668.0</td>\n",
       "      <td>70.0</td>\n",
       "      <td>21069457.0</td>\n",
       "      <td>144375.0</td>\n",
       "      <td>Europe</td>\n",
       "    </tr>\n",
       "    <tr>\n",
       "      <th>3</th>\n",
       "      <td>India</td>\n",
       "      <td>Asia</td>\n",
       "      <td>1.380123e+09</td>\n",
       "      <td>675453</td>\n",
       "      <td>1549.0</td>\n",
       "      <td>19303.0</td>\n",
       "      <td>24.0</td>\n",
       "      <td>409083.0</td>\n",
       "      <td>21.0</td>\n",
       "      <td>247067.0</td>\n",
       "      <td>8944.0</td>\n",
       "      <td>489.0</td>\n",
       "      <td>14.0</td>\n",
       "      <td>9789066.0</td>\n",
       "      <td>7093.0</td>\n",
       "      <td>South-EastAsia</td>\n",
       "    </tr>\n",
       "    <tr>\n",
       "      <th>15</th>\n",
       "      <td>South Africa</td>\n",
       "      <td>Africa</td>\n",
       "      <td>5.931415e+07</td>\n",
       "      <td>187977</td>\n",
       "      <td>116.0</td>\n",
       "      <td>3026.0</td>\n",
       "      <td>4.0</td>\n",
       "      <td>91227.0</td>\n",
       "      <td>49.0</td>\n",
       "      <td>93724.0</td>\n",
       "      <td>539.0</td>\n",
       "      <td>3169.0</td>\n",
       "      <td>51.0</td>\n",
       "      <td>1792078.0</td>\n",
       "      <td>30213.0</td>\n",
       "      <td>Africa</td>\n",
       "    </tr>\n",
       "    <tr>\n",
       "      <th>70</th>\n",
       "      <td>Australia</td>\n",
       "      <td>Australia/Oceania</td>\n",
       "      <td>2.550220e+07</td>\n",
       "      <td>8449</td>\n",
       "      <td>87.0</td>\n",
       "      <td>104.0</td>\n",
       "      <td>NaN</td>\n",
       "      <td>7399.0</td>\n",
       "      <td>44.0</td>\n",
       "      <td>946.0</td>\n",
       "      <td>4.0</td>\n",
       "      <td>331.0</td>\n",
       "      <td>4.0</td>\n",
       "      <td>2711849.0</td>\n",
       "      <td>106338.0</td>\n",
       "      <td>WesternPacific</td>\n",
       "    </tr>\n",
       "  </tbody>\n",
       "</table>\n",
       "</div>"
      ],
      "text/plain": [
       "         Country          Continent    Population  TotalCases  NewCases  \\\n",
       "0            USA      North America  3.310234e+08     2936175     405.0   \n",
       "1         Brazil      South America  2.125747e+08     1578376    1253.0   \n",
       "2         Russia             Europe  1.459353e+08      681251    6736.0   \n",
       "3          India               Asia  1.380123e+09      675453    1549.0   \n",
       "15  South Africa             Africa  5.931415e+07      187977     116.0   \n",
       "70     Australia  Australia/Oceania  2.550220e+07        8449      87.0   \n",
       "\n",
       "    TotalDeaths  NewDeaths  TotalRecovered  NewRecovered  ActiveCases  \\\n",
       "0      132327.0        9.0       1260619.0         214.0    1543229.0   \n",
       "1       64365.0       58.0        978615.0         506.0     535396.0   \n",
       "2       10161.0      134.0        450750.0        3871.0     220340.0   \n",
       "3       19303.0       24.0        409083.0          21.0     247067.0   \n",
       "15       3026.0        4.0         91227.0          49.0      93724.0   \n",
       "70        104.0        NaN          7399.0          44.0        946.0   \n",
       "\n",
       "    Critical  CasePerM  DeathPerM  TotalTests  TestPerM          WHOReg  \n",
       "0    16017.0    8870.0      400.0  36955038.0  111639.0        Americas  \n",
       "1     8318.0    7425.0      303.0   3330562.0   15668.0        Americas  \n",
       "2     2300.0    4668.0       70.0  21069457.0  144375.0          Europe  \n",
       "3     8944.0     489.0       14.0   9789066.0    7093.0  South-EastAsia  \n",
       "15     539.0    3169.0       51.0   1792078.0   30213.0          Africa  \n",
       "70       4.0     331.0        4.0   2711849.0  106338.0  WesternPacific  "
      ]
     },
     "execution_count": 85,
     "metadata": {},
     "output_type": "execute_result"
    }
   ],
   "source": [
    "idx = df.groupby(['Continent'])['ActiveCases'].transform(max) == df['ActiveCases']\n",
    "df[idx]"
   ]
  },
  {
   "cell_type": "markdown",
   "metadata": {},
   "source": [
    "So from this we can say that USA,Brazil has got the worse position in this list. "
   ]
  },
  {
   "cell_type": "code",
   "execution_count": 86,
   "metadata": {
    "scrolled": true
   },
   "outputs": [
    {
     "data": {
      "image/png": "[encoded data removed]",
      "text/plain": [
       "<Figure size 432x288 with 1 Axes>"
      ]
     },
     "metadata": {},
     "output_type": "display_data"
    }
   ],
   "source": [
    "TCR = df.melt(['Critical','Continent']).groupby('Continent').Critical.sum().dropna().plot(kind='bar')"
   ]
  },
  {
   "cell_type": "markdown",
   "metadata": {},
   "source": [
    "So we can have another confirmation that Asia is gonna be the next hit as it has the highest number of critical cases among all the continents. North America and South America's result is as expected."
   ]
  },
  {
   "cell_type": "code",
   "execution_count": 87,
   "metadata": {
    "scrolled": true
   },
   "outputs": [
    {
     "data": {
      "text/html": [
       "<div>\n",
       "<style scoped>\n",
       "    .dataframe tbody tr th:only-of-type {\n",
       "        vertical-align: middle;\n",
       "    }\n",
       "\n",
       "    .dataframe tbody tr th {\n",
       "        vertical-align: top;\n",
       "    }\n",
       "\n",
       "    .dataframe thead th {\n",
       "        text-align: right;\n",
       "    }\n",
       "</style>\n",
       "<table border=\"1\" class=\"dataframe\">\n",
       "  <thead>\n",
       "    <tr style=\"text-align: right;\">\n",
       "      <th></th>\n",
       "      <th>Country</th>\n",
       "      <th>Continent</th>\n",
       "      <th>Population</th>\n",
       "      <th>TotalCases</th>\n",
       "      <th>NewCases</th>\n",
       "      <th>TotalDeaths</th>\n",
       "      <th>NewDeaths</th>\n",
       "      <th>TotalRecovered</th>\n",
       "      <th>NewRecovered</th>\n",
       "      <th>ActiveCases</th>\n",
       "      <th>Critical</th>\n",
       "      <th>CasePerM</th>\n",
       "      <th>DeathPerM</th>\n",
       "      <th>TotalTests</th>\n",
       "      <th>TestPerM</th>\n",
       "      <th>WHOReg</th>\n",
       "    </tr>\n",
       "  </thead>\n",
       "  <tbody>\n",
       "    <tr>\n",
       "      <th>0</th>\n",
       "      <td>USA</td>\n",
       "      <td>North America</td>\n",
       "      <td>3.310234e+08</td>\n",
       "      <td>2936175</td>\n",
       "      <td>405.0</td>\n",
       "      <td>132327.0</td>\n",
       "      <td>9.0</td>\n",
       "      <td>1260619.0</td>\n",
       "      <td>214.0</td>\n",
       "      <td>1543229.0</td>\n",
       "      <td>16017.0</td>\n",
       "      <td>8870.0</td>\n",
       "      <td>400.0</td>\n",
       "      <td>36955038.0</td>\n",
       "      <td>111639.0</td>\n",
       "      <td>Americas</td>\n",
       "    </tr>\n",
       "    <tr>\n",
       "      <th>1</th>\n",
       "      <td>Brazil</td>\n",
       "      <td>South America</td>\n",
       "      <td>2.125747e+08</td>\n",
       "      <td>1578376</td>\n",
       "      <td>1253.0</td>\n",
       "      <td>64365.0</td>\n",
       "      <td>58.0</td>\n",
       "      <td>978615.0</td>\n",
       "      <td>506.0</td>\n",
       "      <td>535396.0</td>\n",
       "      <td>8318.0</td>\n",
       "      <td>7425.0</td>\n",
       "      <td>303.0</td>\n",
       "      <td>3330562.0</td>\n",
       "      <td>15668.0</td>\n",
       "      <td>Americas</td>\n",
       "    </tr>\n",
       "    <tr>\n",
       "      <th>2</th>\n",
       "      <td>Russia</td>\n",
       "      <td>Europe</td>\n",
       "      <td>1.459353e+08</td>\n",
       "      <td>681251</td>\n",
       "      <td>6736.0</td>\n",
       "      <td>10161.0</td>\n",
       "      <td>134.0</td>\n",
       "      <td>450750.0</td>\n",
       "      <td>3871.0</td>\n",
       "      <td>220340.0</td>\n",
       "      <td>2300.0</td>\n",
       "      <td>4668.0</td>\n",
       "      <td>70.0</td>\n",
       "      <td>21069457.0</td>\n",
       "      <td>144375.0</td>\n",
       "      <td>Europe</td>\n",
       "    </tr>\n",
       "    <tr>\n",
       "      <th>3</th>\n",
       "      <td>India</td>\n",
       "      <td>Asia</td>\n",
       "      <td>1.380123e+09</td>\n",
       "      <td>675453</td>\n",
       "      <td>1549.0</td>\n",
       "      <td>19303.0</td>\n",
       "      <td>24.0</td>\n",
       "      <td>409083.0</td>\n",
       "      <td>21.0</td>\n",
       "      <td>247067.0</td>\n",
       "      <td>8944.0</td>\n",
       "      <td>489.0</td>\n",
       "      <td>14.0</td>\n",
       "      <td>9789066.0</td>\n",
       "      <td>7093.0</td>\n",
       "      <td>South-EastAsia</td>\n",
       "    </tr>\n",
       "    <tr>\n",
       "      <th>15</th>\n",
       "      <td>South Africa</td>\n",
       "      <td>Africa</td>\n",
       "      <td>5.931415e+07</td>\n",
       "      <td>187977</td>\n",
       "      <td>116.0</td>\n",
       "      <td>3026.0</td>\n",
       "      <td>4.0</td>\n",
       "      <td>91227.0</td>\n",
       "      <td>49.0</td>\n",
       "      <td>93724.0</td>\n",
       "      <td>539.0</td>\n",
       "      <td>3169.0</td>\n",
       "      <td>51.0</td>\n",
       "      <td>1792078.0</td>\n",
       "      <td>30213.0</td>\n",
       "      <td>Africa</td>\n",
       "    </tr>\n",
       "    <tr>\n",
       "      <th>70</th>\n",
       "      <td>Australia</td>\n",
       "      <td>Australia/Oceania</td>\n",
       "      <td>2.550220e+07</td>\n",
       "      <td>8449</td>\n",
       "      <td>87.0</td>\n",
       "      <td>104.0</td>\n",
       "      <td>NaN</td>\n",
       "      <td>7399.0</td>\n",
       "      <td>44.0</td>\n",
       "      <td>946.0</td>\n",
       "      <td>4.0</td>\n",
       "      <td>331.0</td>\n",
       "      <td>4.0</td>\n",
       "      <td>2711849.0</td>\n",
       "      <td>106338.0</td>\n",
       "      <td>WesternPacific</td>\n",
       "    </tr>\n",
       "  </tbody>\n",
       "</table>\n",
       "</div>"
      ],
      "text/plain": [
       "         Country          Continent    Population  TotalCases  NewCases  \\\n",
       "0            USA      North America  3.310234e+08     2936175     405.0   \n",
       "1         Brazil      South America  2.125747e+08     1578376    1253.0   \n",
       "2         Russia             Europe  1.459353e+08      681251    6736.0   \n",
       "3          India               Asia  1.380123e+09      675453    1549.0   \n",
       "15  South Africa             Africa  5.931415e+07      187977     116.0   \n",
       "70     Australia  Australia/Oceania  2.550220e+07        8449      87.0   \n",
       "\n",
       "    TotalDeaths  NewDeaths  TotalRecovered  NewRecovered  ActiveCases  \\\n",
       "0      132327.0        9.0       1260619.0         214.0    1543229.0   \n",
       "1       64365.0       58.0        978615.0         506.0     535396.0   \n",
       "2       10161.0      134.0        450750.0        3871.0     220340.0   \n",
       "3       19303.0       24.0        409083.0          21.0     247067.0   \n",
       "15       3026.0        4.0         91227.0          49.0      93724.0   \n",
       "70        104.0        NaN          7399.0          44.0        946.0   \n",
       "\n",
       "    Critical  CasePerM  DeathPerM  TotalTests  TestPerM          WHOReg  \n",
       "0    16017.0    8870.0      400.0  36955038.0  111639.0        Americas  \n",
       "1     8318.0    7425.0      303.0   3330562.0   15668.0        Americas  \n",
       "2     2300.0    4668.0       70.0  21069457.0  144375.0          Europe  \n",
       "3     8944.0     489.0       14.0   9789066.0    7093.0  South-EastAsia  \n",
       "15     539.0    3169.0       51.0   1792078.0   30213.0          Africa  \n",
       "70       4.0     331.0        4.0   2711849.0  106338.0  WesternPacific  "
      ]
     },
     "execution_count": 87,
     "metadata": {},
     "output_type": "execute_result"
    }
   ],
   "source": [
    "idx = df.groupby(['Continent'])['Critical'].transform(max) == df['Critical']\n",
    "df[idx]"
   ]
  },
  {
   "cell_type": "markdown",
   "metadata": {},
   "source": [
    "So the situation in USA and Brazil are as expected. India and Russia are coming up gradually. Australia is in the most safe position. So we can say North America, South America is now hot zone of covid 19 and Asia is going to be the next hot zone. Europe has just fighting back well."
   ]
  },
  {
   "cell_type": "code",
   "execution_count": 88,
   "metadata": {
    "scrolled": true
   },
   "outputs": [
    {
     "data": {
      "image/png": "[encoded data removed]",
      "text/plain": [
       "<Figure size 432x288 with 1 Axes>"
      ]
     },
     "metadata": {},
     "output_type": "display_data"
    }
   ],
   "source": [
    "TND = df.melt(['NewDeaths','Continent']).groupby('Continent').NewDeaths.sum().dropna().plot(kind='bar')"
   ]
  },
  {
   "cell_type": "markdown",
   "metadata": {},
   "source": [
    "This is another confirmation that Asia is gonna be the next hit, as already it's having the most number of new deaths. Europe is coming back strongly from their weak position. North America and South America as expected. But South American countries are helpless now. As most of them are not that rich enough and they are now dependent on their fate."
   ]
  },
  {
   "cell_type": "code",
   "execution_count": 89,
   "metadata": {
    "scrolled": true
   },
   "outputs": [
    {
     "data": {
      "image/png": "[encoded data removed]",
      "text/plain": [
       "<Figure size 432x288 with 1 Axes>"
      ]
     },
     "metadata": {},
     "output_type": "display_data"
    }
   ],
   "source": [
    "TNR = df.melt(['NewRecovered','Continent']).groupby('Continent').NewRecovered.sum().dropna().plot(kind='bar')"
   ]
  },
  {
   "cell_type": "markdown",
   "metadata": {},
   "source": [
    "This shows that people of Asia has a much better immune system. Also there's another reason for this may happen. Europe and NA,SA were affected througout the continent in a large scale. So then they didn't had enough knowledge of preventing this pandemic. As a result from them later other countries has learnt a lot to fight against this virus. So they have a better recovery rate. in this case it is Asia continent."
   ]
  },
  {
   "cell_type": "code",
   "execution_count": 90,
   "metadata": {
    "scrolled": true
   },
   "outputs": [
    {
     "data": {
      "image/png": "[encoded data removed]",
      "text/plain": [
       "<Figure size 432x288 with 1 Axes>"
      ]
     },
     "metadata": {},
     "output_type": "display_data"
    }
   ],
   "source": [
    "TNR = df.melt(['CasePerM','Continent']).groupby('Continent').CasePerM.sum().dropna().plot(kind='bar')"
   ]
  },
  {
   "cell_type": "markdown",
   "metadata": {},
   "source": [
    "Although the death and cases are larger in North America and South America but Cases:Population is much better in those continent. Europe was affected most with having less population. Asia is coming up to break the record of Europe."
   ]
  },
  {
   "cell_type": "code",
   "execution_count": 91,
   "metadata": {
    "scrolled": true
   },
   "outputs": [
    {
     "data": {
      "image/png": "[encoded data removed]",
      "text/plain": [
       "<Figure size 432x288 with 1 Axes>"
      ]
     },
     "metadata": {},
     "output_type": "display_data"
    }
   ],
   "source": [
    "TNR = df.melt(['DeathPerM','Continent']).groupby('Continent').DeathPerM.sum().dropna().plot(kind='bar')"
   ]
  },
  {
   "cell_type": "markdown",
   "metadata": {},
   "source": [
    "In terms of deaths:population Asia is in a safer position than others although they are going to be a hot zone. Europe has the worst situation in that case. NA and SA also have a less ratio of death against population. So we can say that Europe has the worst situation though they had well health department and other first world benefits."
   ]
  },
  {
   "cell_type": "code",
   "execution_count": 92,
   "metadata": {
    "scrolled": false
   },
   "outputs": [
    {
     "data": {
      "image/png": "[encoded data removed]",
      "text/plain": [
       "<Figure size 432x288 with 1 Axes>"
      ]
     },
     "metadata": {},
     "output_type": "display_data"
    }
   ],
   "source": [
    "TNR = df.melt(['TotalTests','Continent']).groupby('Continent').TotalTests.sum().dropna().plot(kind='bar')"
   ]
  },
  {
   "cell_type": "markdown",
   "metadata": {},
   "source": [
    "As Europe was affected the most so they had the most tests. And as population of Europe is less surely we can say that they had done most tests against their per million population."
   ]
  },
  {
   "cell_type": "code",
   "execution_count": 93,
   "metadata": {
    "scrolled": true
   },
   "outputs": [
    {
     "data": {
      "text/html": [
       "<div>\n",
       "<style scoped>\n",
       "    .dataframe tbody tr th:only-of-type {\n",
       "        vertical-align: middle;\n",
       "    }\n",
       "\n",
       "    .dataframe tbody tr th {\n",
       "        vertical-align: top;\n",
       "    }\n",
       "\n",
       "    .dataframe thead th {\n",
       "        text-align: right;\n",
       "    }\n",
       "</style>\n",
       "<table border=\"1\" class=\"dataframe\">\n",
       "  <thead>\n",
       "    <tr style=\"text-align: right;\">\n",
       "      <th></th>\n",
       "      <th>Country</th>\n",
       "      <th>Continent</th>\n",
       "      <th>Population</th>\n",
       "      <th>TotalCases</th>\n",
       "      <th>NewCases</th>\n",
       "      <th>TotalDeaths</th>\n",
       "      <th>NewDeaths</th>\n",
       "      <th>TotalRecovered</th>\n",
       "      <th>NewRecovered</th>\n",
       "      <th>ActiveCases</th>\n",
       "      <th>Critical</th>\n",
       "      <th>CasePerM</th>\n",
       "      <th>DeathPerM</th>\n",
       "      <th>TotalTests</th>\n",
       "      <th>TestPerM</th>\n",
       "      <th>WHOReg</th>\n",
       "    </tr>\n",
       "  </thead>\n",
       "  <tbody>\n",
       "    <tr>\n",
       "      <th>0</th>\n",
       "      <td>USA</td>\n",
       "      <td>North America</td>\n",
       "      <td>331023450.0</td>\n",
       "      <td>2936175</td>\n",
       "      <td>405.0</td>\n",
       "      <td>132327.0</td>\n",
       "      <td>9.0</td>\n",
       "      <td>1260619.0</td>\n",
       "      <td>214.0</td>\n",
       "      <td>1543229.0</td>\n",
       "      <td>16017.0</td>\n",
       "      <td>8870.0</td>\n",
       "      <td>400.0</td>\n",
       "      <td>36955038.0</td>\n",
       "      <td>111639.0</td>\n",
       "      <td>Americas</td>\n",
       "    </tr>\n",
       "    <tr>\n",
       "      <th>1</th>\n",
       "      <td>Brazil</td>\n",
       "      <td>South America</td>\n",
       "      <td>212574666.0</td>\n",
       "      <td>1578376</td>\n",
       "      <td>1253.0</td>\n",
       "      <td>64365.0</td>\n",
       "      <td>58.0</td>\n",
       "      <td>978615.0</td>\n",
       "      <td>506.0</td>\n",
       "      <td>535396.0</td>\n",
       "      <td>8318.0</td>\n",
       "      <td>7425.0</td>\n",
       "      <td>303.0</td>\n",
       "      <td>3330562.0</td>\n",
       "      <td>15668.0</td>\n",
       "      <td>Americas</td>\n",
       "    </tr>\n",
       "  </tbody>\n",
       "</table>\n",
       "</div>"
      ],
      "text/plain": [
       "  Country      Continent   Population  TotalCases  NewCases  TotalDeaths  \\\n",
       "0     USA  North America  331023450.0     2936175     405.0     132327.0   \n",
       "1  Brazil  South America  212574666.0     1578376    1253.0      64365.0   \n",
       "\n",
       "   NewDeaths  TotalRecovered  NewRecovered  ActiveCases  Critical  CasePerM  \\\n",
       "0        9.0       1260619.0         214.0    1543229.0   16017.0    8870.0   \n",
       "1       58.0        978615.0         506.0     535396.0    8318.0    7425.0   \n",
       "\n",
       "   DeathPerM  TotalTests  TestPerM    WHOReg  \n",
       "0      400.0  36955038.0  111639.0  Americas  \n",
       "1      303.0   3330562.0   15668.0  Americas  "
      ]
     },
     "execution_count": 93,
     "metadata": {},
     "output_type": "execute_result"
    }
   ],
   "source": [
    "df.head(2)"
   ]
  },
  {
   "cell_type": "code",
   "execution_count": 94,
   "metadata": {
    "scrolled": true
   },
   "outputs": [
    {
     "data": {
      "image/png": "[encoded data removed]",
      "text/plain": [
       "<Figure size 720x360 with 1 Axes>"
      ]
     },
     "metadata": {},
     "output_type": "display_data"
    }
   ],
   "source": [
    "df1 = df.sort_values('TotalCases',ascending = False).head(10)\n",
    "plt.figure(figsize=(10,5))\n",
    "plot = sns.barplot(x=df1[\"Country\"], \n",
    "                   y=df1[\"TotalCases\"])"
   ]
  },
  {
   "cell_type": "markdown",
   "metadata": {},
   "source": [
    "So these are the top 10 countries where the virus has spread the most. USA is the top country and their situation is worse than others. 2nd top country Brazil has about half of USA's total cases. There's only one asian country India that shows in Asia the virus is spread well but situation is still under control. If we look closely we can see that the situation in North America and South America has worsen mostly for USA and Brazil. So the virus in those continents hasn't spread like Asia. Only these two countries are most responsible for over all record in this table."
   ]
  },
  {
   "cell_type": "code",
   "execution_count": 95,
   "metadata": {
    "scrolled": true
   },
   "outputs": [
    {
     "data": {
      "image/png": "[encoded data removed]",
      "text/plain": [
       "<Figure size 720x360 with 1 Axes>"
      ]
     },
     "metadata": {},
     "output_type": "display_data"
    }
   ],
   "source": [
    "df1 = df.sort_values('TotalDeaths',ascending = False).head(10)\n",
    "plt.figure(figsize=(10,5))\n",
    "plot = sns.barplot(x=df1[\"Country\"], \n",
    "                   y=df1[\"TotalDeaths\"])"
   ]
  },
  {
   "cell_type": "markdown",
   "metadata": {},
   "source": [
    "So as expected result but the point is although UK, Italy,Mexico, France, Spain had less affected population but in terms of death they are well ahead of the other countries like India, Peru, Russia. So we can say that these countries just passed an unbearable time in their history."
   ]
  },
  {
   "cell_type": "code",
   "execution_count": 96,
   "metadata": {
    "scrolled": true
   },
   "outputs": [
    {
     "data": {
      "image/png": "[encoded data removed]",
      "text/plain": [
       "<Figure size 720x360 with 1 Axes>"
      ]
     },
     "metadata": {},
     "output_type": "display_data"
    }
   ],
   "source": [
    "df1 = df.sort_values('NewDeaths',ascending = False).head(10)\n",
    "plt.figure(figsize=(10,5))\n",
    "plot = sns.barplot(x=df1[\"Country\"], \n",
    "                   y=df1[\"NewDeaths\"])"
   ]
  },
  {
   "cell_type": "markdown",
   "metadata": {},
   "source": [
    "Seems like values are missing here as at the time of the collection of data many countrys hasn't updated their data for NewDeaths. "
   ]
  },
  {
   "cell_type": "code",
   "execution_count": 97,
   "metadata": {
    "scrolled": true
   },
   "outputs": [
    {
     "data": {
      "image/png": "[encoded data removed]",
      "text/plain": [
       "<Figure size 864x360 with 1 Axes>"
      ]
     },
     "metadata": {},
     "output_type": "display_data"
    }
   ],
   "source": [
    "df1 = df.sort_values('ActiveCases',ascending = False).head(10)\n",
    "plt.figure(figsize=(12,5))\n",
    "plot = sns.barplot(x=df1[\"Country\"], \n",
    "                   y=df1[\"ActiveCases\"])"
   ]
  },
  {
   "cell_type": "markdown",
   "metadata": {},
   "source": [
    "So from here we can say that USA,Brazil,India,Russia are current red zone. The rest are going to that way. Although Bangladesh is a small country but their situation is getting worse. And as we can see 3 out of top 10 countries are from Asia. It's pointing that Asia is the next hit zone."
   ]
  },
  {
   "cell_type": "code",
   "execution_count": 98,
   "metadata": {
    "scrolled": false
   },
   "outputs": [
    {
     "data": {
      "image/png": "[encoded data removed]",
      "text/plain": [
       "<Figure size 864x360 with 1 Axes>"
      ]
     },
     "metadata": {},
     "output_type": "display_data"
    }
   ],
   "source": [
    "df1 = df.sort_values('TotalRecovered',ascending = False).head(10)\n",
    "plt.figure(figsize=(12,5))\n",
    "plot = sns.barplot(x=df1[\"Country\"], \n",
    "                   y=df1[\"TotalRecovered\"])"
   ]
  },
  {
   "cell_type": "markdown",
   "metadata": {},
   "source": [
    "The countries which affected the most have recovered the most, although there's no record of UK. Germany has done a great job in my eyes."
   ]
  },
  {
   "cell_type": "code",
   "execution_count": 99,
   "metadata": {
    "scrolled": true
   },
   "outputs": [
    {
     "data": {
      "image/png": "[encoded data removed]",
      "text/plain": [
       "<Figure size 864x360 with 1 Axes>"
      ]
     },
     "metadata": {},
     "output_type": "display_data"
    }
   ],
   "source": [
    "df1 = df.sort_values('DeathPerM',ascending = False).head(10)\n",
    "plt.figure(figsize=(12,5))\n",
    "plot = sns.barplot(x=df1[\"Country\"], \n",
    "                   y=df1[\"DeathPerM\"])"
   ]
  },
  {
   "cell_type": "markdown",
   "metadata": {},
   "source": [
    "Except San Marino and Andorra all are countries here has a large population. And in terms of death per million their situation is really poor."
   ]
  },
  {
   "cell_type": "code",
   "execution_count": 100,
   "metadata": {
    "scrolled": true
   },
   "outputs": [
    {
     "data": {
      "image/png": "[encoded data removed]",
      "text/plain": [
       "<Figure size 864x360 with 1 Axes>"
      ]
     },
     "metadata": {},
     "output_type": "display_data"
    }
   ],
   "source": [
    "df1 = df.sort_values('CasePerM',ascending = False).head(10)\n",
    "plt.figure(figsize=(12,5))\n",
    "plot = sns.barplot(x=df1[\"Country\"], \n",
    "                   y=df1[\"CasePerM\"])"
   ]
  },
  {
   "cell_type": "markdown",
   "metadata": {},
   "source": [
    "So this shows that although these countries has less population than the countries that affected and had death the most, these countries couldn't save themselves affecting from it. It shows whether these countries were unaware or the virus is too strong to be fold up."
   ]
  },
  {
   "cell_type": "code",
   "execution_count": 101,
   "metadata": {
    "scrolled": true
   },
   "outputs": [
    {
     "data": {
      "image/png": "[encoded data removed]",
      "text/plain": [
       "<Figure size 864x360 with 1 Axes>"
      ]
     },
     "metadata": {},
     "output_type": "display_data"
    }
   ],
   "source": [
    "df1 = df.sort_values('TotalTests',ascending = False).head(10)\n",
    "plt.figure(figsize=(12,5))\n",
    "plot = sns.barplot(x=df1[\"Country\"], \n",
    "                   y=df1[\"TotalTests\"])"
   ]
  },
  {
   "cell_type": "markdown",
   "metadata": {},
   "source": [
    "These are the top countries which are rich and could afford a high number of tests. You can see brazil at the last position, though it has a huge number of cases and deaths. This shows the economical situation of this country."
   ]
  },
  {
   "cell_type": "code",
   "execution_count": 107,
   "metadata": {
    "scrolled": false
   },
   "outputs": [
    {
     "data": {
      "image/png": "[encoded data removed]",
      "text/plain": [
       "<Figure size 1080x432 with 1 Axes>"
      ]
     },
     "metadata": {},
     "output_type": "display_data"
    }
   ],
   "source": [
    "plt.figure(figsize=(15,6))\n",
    "\n",
    "plot = sns.lineplot(x=df[\"TotalCases\"],\n",
    "                    y=df[\"TotalDeaths\"])"
   ]
  },
  {
   "cell_type": "markdown",
   "metadata": {},
   "source": [
    "So we can say that the number of deaths increases the with the number of cases. And if the number of cases are more than around 70 thousands the number of death increases in a constant number. "
   ]
  },
  {
   "cell_type": "code",
   "execution_count": 108,
   "metadata": {
    "scrolled": false
   },
   "outputs": [
    {
     "data": {
      "image/png": "[encoded data removed]",
      "text/plain": [
       "<Figure size 1080x432 with 1 Axes>"
      ]
     },
     "metadata": {},
     "output_type": "display_data"
    }
   ],
   "source": [
    "plt.figure(figsize=(15,6))\n",
    "\n",
    "plot = sns.lineplot(x=df[\"TotalTests\"],\n",
    "                    y=df[\"TotalCases\"])"
   ]
  },
  {
   "cell_type": "markdown",
   "metadata": {},
   "source": [
    "So this shows the number of cases depends on number of tests. So it's another hypothesis that poorer countries are missing case and death numbers."
   ]
  },
  {
   "cell_type": "code",
   "execution_count": 109,
   "metadata": {
    "collapsed": true
   },
   "outputs": [
    {
     "data": {
      "image/png": "[encoded data removed]",
      "text/plain": [
       "<Figure size 720x360 with 1 Axes>"
      ]
     },
     "metadata": {},
     "output_type": "display_data"
    }
   ],
   "source": [
    "df1 = df.sort_values('Critical',ascending = False).head(10)\n",
    "plt.figure(figsize=(10,5))\n",
    "plot = sns.barplot(x=df1[\"Country\"], \n",
    "                   y=df1[\"Critical\"])"
   ]
  },
  {
   "cell_type": "markdown",
   "metadata": {},
   "source": [
    "So these countries have the most critical cases right now, and again it's a proof that Asian countries are coming up to the list and gonna be a red zone soon."
   ]
  },
  {
   "cell_type": "code",
   "execution_count": 126,
   "metadata": {
    "scrolled": false
   },
   "outputs": [
    {
     "data": {
      "image/png": "[encoded data removed]",
      "text/plain": [
       "<Figure size 1080x432 with 1 Axes>"
      ]
     },
     "metadata": {},
     "output_type": "display_data"
    }
   ],
   "source": [
    "plt.figure(figsize=(15,6))\n",
    "plot = sns.distplot(df[\"TotalDeaths\"],\n",
    "                    hist=True)"
   ]
  },
  {
   "cell_type": "markdown",
   "metadata": {},
   "source": [
    "It shows that most of the countries are still in very good position in terms of deaths. And as a few countries has poor situation so it's showing some outliers."
   ]
  },
  {
   "cell_type": "code",
   "execution_count": 125,
   "metadata": {
    "scrolled": false
   },
   "outputs": [
    {
     "data": {
      "image/png": "[encoded data removed]",
      "text/plain": [
       "<Figure size 1080x432 with 1 Axes>"
      ]
     },
     "metadata": {},
     "output_type": "display_data"
    }
   ],
   "source": [
    "plt.figure(figsize=(15,6))\n",
    "plot = sns.distplot(df[\"TotalCases\"],\n",
    "                    hist=True)"
   ]
  },
  {
   "cell_type": "markdown",
   "metadata": {},
   "source": [
    "It shows that most of the countries are still in very good position in terms of totalcases. And as a few countries has poor situation so it's showing some outliers."
   ]
  },
  {
   "cell_type": "code",
   "execution_count": 124,
   "metadata": {
    "scrolled": false
   },
   "outputs": [
    {
     "data": {
      "image/png": "[encoded data removed]",
      "text/plain": [
       "<Figure size 1080x432 with 1 Axes>"
      ]
     },
     "metadata": {},
     "output_type": "display_data"
    }
   ],
   "source": [
    "plt.figure(figsize=(15,6))\n",
    "plot = sns.distplot(df[\"NewDeaths\"],\n",
    "                    hist=True)"
   ]
  },
  {
   "cell_type": "markdown",
   "metadata": {},
   "source": [
    "It shows that most of the countries are still in very good position in terms of totalcases. And we can see some outliers  here too as a some countries has poor situation."
   ]
  },
  {
   "cell_type": "code",
   "execution_count": 123,
   "metadata": {
    "scrolled": false
   },
   "outputs": [
    {
     "data": {
      "image/png": "[encoded data removed]",
      "text/plain": [
       "<Figure size 1080x432 with 1 Axes>"
      ]
     },
     "metadata": {},
     "output_type": "display_data"
    }
   ],
   "source": [
    "plt.figure(figsize=(15,6))\n",
    "plot = sns.distplot(df[\"NewRecovered\"],\n",
    "                    hist=True)"
   ]
  },
  {
   "cell_type": "markdown",
   "metadata": {},
   "source": [
    "Very less outliers here. As the new recovered number is connected to the new cases."
   ]
  },
  {
   "cell_type": "code",
   "execution_count": 122,
   "metadata": {},
   "outputs": [
    {
     "data": {
      "image/png": "[encoded data removed]",
      "text/plain": [
       "<Figure size 1080x432 with 1 Axes>"
      ]
     },
     "metadata": {},
     "output_type": "display_data"
    }
   ],
   "source": [
    "plt.figure(figsize=(15,6))\n",
    "plot = sns.distplot(df[\"NewCases\"],\n",
    "                    hist=True)"
   ]
  },
  {
   "cell_type": "markdown",
   "metadata": {},
   "source": [
    "As most of the countries has less new cases so the number of new recovered cases are less. A line plot will make it clearer. And there are some outliers."
   ]
  },
  {
   "cell_type": "code",
   "execution_count": 120,
   "metadata": {
    "scrolled": false
   },
   "outputs": [
    {
     "data": {
      "image/png": "[encoded data removed]",
      "text/plain": [
       "<Figure size 1080x432 with 1 Axes>"
      ]
     },
     "metadata": {},
     "output_type": "display_data"
    }
   ],
   "source": [
    "plt.figure(figsize=(15,6))\n",
    "\n",
    "plot = sns.lineplot(x=df[\"NewCases\"],\n",
    "                    y=df[\"NewRecovered\"])"
   ]
  },
  {
   "cell_type": "code",
   "execution_count": 121,
   "metadata": {
    "scrolled": false
   },
   "outputs": [
    {
     "data": {
      "image/png": "[encoded data removed]",
      "text/plain": [
       "<Figure size 1080x432 with 1 Axes>"
      ]
     },
     "metadata": {},
     "output_type": "display_data"
    }
   ],
   "source": [
    "plt.figure(figsize=(15,6))\n",
    "\n",
    "plot = sns.lineplot(x=df[\"NewCases\"],\n",
    "                    y=df[\"NewDeaths\"])"
   ]
  },
  {
   "cell_type": "markdown",
   "metadata": {},
   "source": [
    "The increasing number of new cases are also related to increasing number of new deaths. Also there's some values are missing but still we can say more the cases, the more the deaths."
   ]
  },
  {
   "cell_type": "code",
   "execution_count": 131,
   "metadata": {
    "scrolled": false
   },
   "outputs": [
    {
     "data": {
      "text/html": [
       "<div>\n",
       "<style scoped>\n",
       "    .dataframe tbody tr th:only-of-type {\n",
       "        vertical-align: middle;\n",
       "    }\n",
       "\n",
       "    .dataframe tbody tr th {\n",
       "        vertical-align: top;\n",
       "    }\n",
       "\n",
       "    .dataframe thead th {\n",
       "        text-align: right;\n",
       "    }\n",
       "</style>\n",
       "<table border=\"1\" class=\"dataframe\">\n",
       "  <thead>\n",
       "    <tr style=\"text-align: right;\">\n",
       "      <th></th>\n",
       "      <th>Population</th>\n",
       "      <th>TotalCases</th>\n",
       "      <th>NewCases</th>\n",
       "      <th>TotalDeaths</th>\n",
       "      <th>NewDeaths</th>\n",
       "      <th>TotalRecovered</th>\n",
       "      <th>NewRecovered</th>\n",
       "      <th>ActiveCases</th>\n",
       "      <th>Critical</th>\n",
       "      <th>CasePerM</th>\n",
       "      <th>DeathPerM</th>\n",
       "      <th>TotalTests</th>\n",
       "      <th>TestPerM</th>\n",
       "    </tr>\n",
       "  </thead>\n",
       "  <tbody>\n",
       "    <tr>\n",
       "      <th>Population</th>\n",
       "      <td>1.000000</td>\n",
       "      <td>0.440518</td>\n",
       "      <td>0.283706</td>\n",
       "      <td>0.357966</td>\n",
       "      <td>0.158185</td>\n",
       "      <td>0.471684</td>\n",
       "      <td>0.176317</td>\n",
       "      <td>0.390019</td>\n",
       "      <td>0.622707</td>\n",
       "      <td>-0.030902</td>\n",
       "      <td>0.020694</td>\n",
       "      <td>0.423475</td>\n",
       "      <td>-0.081474</td>\n",
       "    </tr>\n",
       "    <tr>\n",
       "      <th>TotalCases</th>\n",
       "      <td>0.440518</td>\n",
       "      <td>1.000000</td>\n",
       "      <td>0.250570</td>\n",
       "      <td>0.932088</td>\n",
       "      <td>0.162918</td>\n",
       "      <td>0.970272</td>\n",
       "      <td>0.198547</td>\n",
       "      <td>0.969501</td>\n",
       "      <td>0.943722</td>\n",
       "      <td>0.208854</td>\n",
       "      <td>0.265264</td>\n",
       "      <td>0.863072</td>\n",
       "      <td>0.057359</td>\n",
       "    </tr>\n",
       "    <tr>\n",
       "      <th>NewCases</th>\n",
       "      <td>0.283706</td>\n",
       "      <td>0.250570</td>\n",
       "      <td>1.000000</td>\n",
       "      <td>0.189182</td>\n",
       "      <td>0.839085</td>\n",
       "      <td>0.320181</td>\n",
       "      <td>0.887652</td>\n",
       "      <td>0.181148</td>\n",
       "      <td>0.219008</td>\n",
       "      <td>0.088552</td>\n",
       "      <td>0.025695</td>\n",
       "      <td>0.294760</td>\n",
       "      <td>-0.025727</td>\n",
       "    </tr>\n",
       "    <tr>\n",
       "      <th>TotalDeaths</th>\n",
       "      <td>0.357966</td>\n",
       "      <td>0.932088</td>\n",
       "      <td>0.189182</td>\n",
       "      <td>1.000000</td>\n",
       "      <td>0.206173</td>\n",
       "      <td>0.866361</td>\n",
       "      <td>0.165523</td>\n",
       "      <td>0.887964</td>\n",
       "      <td>0.838523</td>\n",
       "      <td>0.178386</td>\n",
       "      <td>0.410831</td>\n",
       "      <td>0.817597</td>\n",
       "      <td>0.069127</td>\n",
       "    </tr>\n",
       "    <tr>\n",
       "      <th>NewDeaths</th>\n",
       "      <td>0.158185</td>\n",
       "      <td>0.162918</td>\n",
       "      <td>0.839085</td>\n",
       "      <td>0.206173</td>\n",
       "      <td>1.000000</td>\n",
       "      <td>0.214659</td>\n",
       "      <td>0.798004</td>\n",
       "      <td>0.103187</td>\n",
       "      <td>0.130645</td>\n",
       "      <td>0.042489</td>\n",
       "      <td>0.069367</td>\n",
       "      <td>0.107115</td>\n",
       "      <td>-0.045115</td>\n",
       "    </tr>\n",
       "    <tr>\n",
       "      <th>TotalRecovered</th>\n",
       "      <td>0.471684</td>\n",
       "      <td>0.970272</td>\n",
       "      <td>0.320181</td>\n",
       "      <td>0.866361</td>\n",
       "      <td>0.214659</td>\n",
       "      <td>1.000000</td>\n",
       "      <td>0.258811</td>\n",
       "      <td>0.908063</td>\n",
       "      <td>0.932545</td>\n",
       "      <td>0.235124</td>\n",
       "      <td>0.229992</td>\n",
       "      <td>0.799660</td>\n",
       "      <td>0.050747</td>\n",
       "    </tr>\n",
       "    <tr>\n",
       "      <th>NewRecovered</th>\n",
       "      <td>0.176317</td>\n",
       "      <td>0.198547</td>\n",
       "      <td>0.887652</td>\n",
       "      <td>0.165523</td>\n",
       "      <td>0.798004</td>\n",
       "      <td>0.258811</td>\n",
       "      <td>1.000000</td>\n",
       "      <td>0.133788</td>\n",
       "      <td>0.162969</td>\n",
       "      <td>0.169684</td>\n",
       "      <td>0.050453</td>\n",
       "      <td>0.219287</td>\n",
       "      <td>-0.001798</td>\n",
       "    </tr>\n",
       "    <tr>\n",
       "      <th>ActiveCases</th>\n",
       "      <td>0.390019</td>\n",
       "      <td>0.969501</td>\n",
       "      <td>0.181148</td>\n",
       "      <td>0.887964</td>\n",
       "      <td>0.103187</td>\n",
       "      <td>0.908063</td>\n",
       "      <td>0.133788</td>\n",
       "      <td>1.000000</td>\n",
       "      <td>0.919050</td>\n",
       "      <td>0.154460</td>\n",
       "      <td>0.188471</td>\n",
       "      <td>0.847212</td>\n",
       "      <td>0.037977</td>\n",
       "    </tr>\n",
       "    <tr>\n",
       "      <th>Critical</th>\n",
       "      <td>0.622707</td>\n",
       "      <td>0.943722</td>\n",
       "      <td>0.219008</td>\n",
       "      <td>0.838523</td>\n",
       "      <td>0.130645</td>\n",
       "      <td>0.932545</td>\n",
       "      <td>0.162969</td>\n",
       "      <td>0.919050</td>\n",
       "      <td>1.000000</td>\n",
       "      <td>0.164852</td>\n",
       "      <td>0.188743</td>\n",
       "      <td>0.792999</td>\n",
       "      <td>0.022833</td>\n",
       "    </tr>\n",
       "    <tr>\n",
       "      <th>CasePerM</th>\n",
       "      <td>-0.030902</td>\n",
       "      <td>0.208854</td>\n",
       "      <td>0.088552</td>\n",
       "      <td>0.178386</td>\n",
       "      <td>0.042489</td>\n",
       "      <td>0.235124</td>\n",
       "      <td>0.169684</td>\n",
       "      <td>0.154460</td>\n",
       "      <td>0.164852</td>\n",
       "      <td>1.000000</td>\n",
       "      <td>0.475260</td>\n",
       "      <td>0.155071</td>\n",
       "      <td>0.385565</td>\n",
       "    </tr>\n",
       "    <tr>\n",
       "      <th>DeathPerM</th>\n",
       "      <td>0.020694</td>\n",
       "      <td>0.265264</td>\n",
       "      <td>0.025695</td>\n",
       "      <td>0.410831</td>\n",
       "      <td>0.069367</td>\n",
       "      <td>0.229992</td>\n",
       "      <td>0.050453</td>\n",
       "      <td>0.188471</td>\n",
       "      <td>0.188743</td>\n",
       "      <td>0.475260</td>\n",
       "      <td>1.000000</td>\n",
       "      <td>0.255455</td>\n",
       "      <td>0.221407</td>\n",
       "    </tr>\n",
       "    <tr>\n",
       "      <th>TotalTests</th>\n",
       "      <td>0.423475</td>\n",
       "      <td>0.863072</td>\n",
       "      <td>0.294760</td>\n",
       "      <td>0.817597</td>\n",
       "      <td>0.107115</td>\n",
       "      <td>0.799660</td>\n",
       "      <td>0.219287</td>\n",
       "      <td>0.847212</td>\n",
       "      <td>0.792999</td>\n",
       "      <td>0.155071</td>\n",
       "      <td>0.255455</td>\n",
       "      <td>1.000000</td>\n",
       "      <td>0.143131</td>\n",
       "    </tr>\n",
       "    <tr>\n",
       "      <th>TestPerM</th>\n",
       "      <td>-0.081474</td>\n",
       "      <td>0.057359</td>\n",
       "      <td>-0.025727</td>\n",
       "      <td>0.069127</td>\n",
       "      <td>-0.045115</td>\n",
       "      <td>0.050747</td>\n",
       "      <td>-0.001798</td>\n",
       "      <td>0.037977</td>\n",
       "      <td>0.022833</td>\n",
       "      <td>0.385565</td>\n",
       "      <td>0.221407</td>\n",
       "      <td>0.143131</td>\n",
       "      <td>1.000000</td>\n",
       "    </tr>\n",
       "  </tbody>\n",
       "</table>\n",
       "</div>"
      ],
      "text/plain": [
       "                Population  TotalCases  NewCases  TotalDeaths  NewDeaths  \\\n",
       "Population        1.000000    0.440518  0.283706     0.357966   0.158185   \n",
       "TotalCases        0.440518    1.000000  0.250570     0.932088   0.162918   \n",
       "NewCases          0.283706    0.250570  1.000000     0.189182   0.839085   \n",
       "TotalDeaths       0.357966    0.932088  0.189182     1.000000   0.206173   \n",
       "NewDeaths         0.158185    0.162918  0.839085     0.206173   1.000000   \n",
       "TotalRecovered    0.471684    0.970272  0.320181     0.866361   0.214659   \n",
       "NewRecovered      0.176317    0.198547  0.887652     0.165523   0.798004   \n",
       "ActiveCases       0.390019    0.969501  0.181148     0.887964   0.103187   \n",
       "Critical          0.622707    0.943722  0.219008     0.838523   0.130645   \n",
       "CasePerM         -0.030902    0.208854  0.088552     0.178386   0.042489   \n",
       "DeathPerM         0.020694    0.265264  0.025695     0.410831   0.069367   \n",
       "TotalTests        0.423475    0.863072  0.294760     0.817597   0.107115   \n",
       "TestPerM         -0.081474    0.057359 -0.025727     0.069127  -0.045115   \n",
       "\n",
       "                TotalRecovered  NewRecovered  ActiveCases  Critical  CasePerM  \\\n",
       "Population            0.471684      0.176317     0.390019  0.622707 -0.030902   \n",
       "TotalCases            0.970272      0.198547     0.969501  0.943722  0.208854   \n",
       "NewCases              0.320181      0.887652     0.181148  0.219008  0.088552   \n",
       "TotalDeaths           0.866361      0.165523     0.887964  0.838523  0.178386   \n",
       "NewDeaths             0.214659      0.798004     0.103187  0.130645  0.042489   \n",
       "TotalRecovered        1.000000      0.258811     0.908063  0.932545  0.235124   \n",
       "NewRecovered          0.258811      1.000000     0.133788  0.162969  0.169684   \n",
       "ActiveCases           0.908063      0.133788     1.000000  0.919050  0.154460   \n",
       "Critical              0.932545      0.162969     0.919050  1.000000  0.164852   \n",
       "CasePerM              0.235124      0.169684     0.154460  0.164852  1.000000   \n",
       "DeathPerM             0.229992      0.050453     0.188471  0.188743  0.475260   \n",
       "TotalTests            0.799660      0.219287     0.847212  0.792999  0.155071   \n",
       "TestPerM              0.050747     -0.001798     0.037977  0.022833  0.385565   \n",
       "\n",
       "                DeathPerM  TotalTests  TestPerM  \n",
       "Population       0.020694    0.423475 -0.081474  \n",
       "TotalCases       0.265264    0.863072  0.057359  \n",
       "NewCases         0.025695    0.294760 -0.025727  \n",
       "TotalDeaths      0.410831    0.817597  0.069127  \n",
       "NewDeaths        0.069367    0.107115 -0.045115  \n",
       "TotalRecovered   0.229992    0.799660  0.050747  \n",
       "NewRecovered     0.050453    0.219287 -0.001798  \n",
       "ActiveCases      0.188471    0.847212  0.037977  \n",
       "Critical         0.188743    0.792999  0.022833  \n",
       "CasePerM         0.475260    0.155071  0.385565  \n",
       "DeathPerM        1.000000    0.255455  0.221407  \n",
       "TotalTests       0.255455    1.000000  0.143131  \n",
       "TestPerM         0.221407    0.143131  1.000000  "
      ]
     },
     "execution_count": 131,
     "metadata": {},
     "output_type": "execute_result"
    }
   ],
   "source": [
    "df.corr()"
   ]
  },
  {
   "cell_type": "markdown",
   "metadata": {},
   "source": [
    "This correlation matrix is going to make everything more clearer.\n",
    "\n",
    "1. Population has a good relation with Total Cases, Total Deaths, Total Recovered and Total Critical cases, Total tests. So these 5 are well dependent on the population of a country. \n",
    "\n",
    "2. Total cases has a strong connection with Total deaths. So more the infected cases more the deaths. This is a message to the countries that are not vastly affected yet. Good thing is that Total cases are strongly connected with Total Recovered cases. And another bad thing is that more the infected cases, more the critical cases. And number of total cases increases with number of total tests.\n",
    "\n",
    "3. New cases has a strong connection with New deaths and new recovered. \n",
    "\n",
    "4. Total Recovered has a strong connection with total deaths. That means number of total recovered cases increases with number of total deaths. Also it's strongly connected with TotalCases (most), Active cases, Total tests and Critical cases.\n",
    "\n",
    "5. New recovered cases has a good connection with new deaths. \n",
    "\n",
    "6. Total deaths has a strong connection with total tests. So more the number of tests, more the infected, more the deaths.\n",
    "\n",
    "7. Active cases has strong connections with Total cases, Total recovered, Total Deaths, Critical, Total deaths. \n",
    "\n",
    "8. Cases Per million has a negative co relation with population, means that more the population less the cases. \n",
    "\n",
    "9. Tests Per million also has a negative correlation with population as well as New cases and new deaths. So less tests more deaths. It's happening in the poorer countries. "
   ]
  }
 ],
 "metadata": {
  "kernelspec": {
   "display_name": "Python 3",
   "language": "python",
   "name": "python3"
  },
  "language_info": {
   "codemirror_mode": {
    "name": "ipython",
    "version": 3
   },
   "file_extension": ".py",
   "mimetype": "text/x-python",
   "name": "python",
   "nbconvert_exporter": "python",
   "pygments_lexer": "ipython3",
   "version": "3.7.6"
  }
 },
 "nbformat": 4,
 "nbformat_minor": 4
}
